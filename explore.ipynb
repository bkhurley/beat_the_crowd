{
 "cells": [
  {
   "cell_type": "markdown",
   "metadata": {},
   "source": [
    "# Exploratory analyses"
   ]
  },
  {
   "cell_type": "code",
   "execution_count": 1,
   "metadata": {},
   "outputs": [],
   "source": [
    "import pandas as pd\n",
    "import numpy as np \n",
    "import matplotlib.pyplot as plt\n",
    "import matplotlib.figure as fig\n",
    "import seaborn as sns\n",
    "import psycopg2\n",
    "import os\n",
    "import sys\n",
    "import io\n",
    "import warnings\n",
    "warnings.filterwarnings('ignore')\n",
    "%matplotlib inline"
   ]
  },
  {
   "cell_type": "markdown",
   "metadata": {},
   "source": [
    "## Pull data from postgreSQL db\n",
    "**TO DO**: Once weather data properly scraped & stored in db, pull BART & weather together as a join into a dataframe. "
   ]
  },
  {
   "cell_type": "code",
   "execution_count": 7,
   "metadata": {},
   "outputs": [],
   "source": [
    "# open db connection\n",
    "dbname = 'bart_db'\n",
    "username = 'bkhurley'\n",
    "con = None\n",
    "con = psycopg2.connect(database=dbname, user=username)\n",
    "\n",
    "# query the data & store in a dataframe\n",
    "sql_query = \"\"\"\n",
    "SELECT * FROM bart_entry_exit;\n",
    "\"\"\"\n",
    "entry_exit_df = pd.read_sql_query(sql_query,con, index_col='id')\n",
    "con.close() #close dn connection"
   ]
  },
  {
   "cell_type": "code",
   "execution_count": 10,
   "metadata": {},
   "outputs": [
    {
     "data": {
      "text/html": [
       "<div>\n",
       "<style scoped>\n",
       "    .dataframe tbody tr th:only-of-type {\n",
       "        vertical-align: middle;\n",
       "    }\n",
       "\n",
       "    .dataframe tbody tr th {\n",
       "        vertical-align: top;\n",
       "    }\n",
       "\n",
       "    .dataframe thead th {\n",
       "        text-align: right;\n",
       "    }\n",
       "</style>\n",
       "<table border=\"1\" class=\"dataframe\">\n",
       "  <thead>\n",
       "    <tr style=\"text-align: right;\">\n",
       "      <th></th>\n",
       "      <th>date</th>\n",
       "      <th>hour</th>\n",
       "      <th>direction</th>\n",
       "      <th>station</th>\n",
       "      <th>entries</th>\n",
       "      <th>exits</th>\n",
       "      <th>day</th>\n",
       "      <th>month</th>\n",
       "    </tr>\n",
       "    <tr>\n",
       "      <th>id</th>\n",
       "      <th></th>\n",
       "      <th></th>\n",
       "      <th></th>\n",
       "      <th></th>\n",
       "      <th></th>\n",
       "      <th></th>\n",
       "      <th></th>\n",
       "      <th></th>\n",
       "    </tr>\n",
       "  </thead>\n",
       "  <tbody>\n",
       "    <tr>\n",
       "      <th>0</th>\n",
       "      <td>2011-01-01</td>\n",
       "      <td>0</td>\n",
       "      <td>northbound</td>\n",
       "      <td>12TH</td>\n",
       "      <td>16</td>\n",
       "      <td>102</td>\n",
       "      <td>Saturday</td>\n",
       "      <td>1</td>\n",
       "    </tr>\n",
       "    <tr>\n",
       "      <th>1</th>\n",
       "      <td>2011-01-01</td>\n",
       "      <td>0</td>\n",
       "      <td>northbound</td>\n",
       "      <td>16TH</td>\n",
       "      <td>168</td>\n",
       "      <td>26</td>\n",
       "      <td>Saturday</td>\n",
       "      <td>1</td>\n",
       "    </tr>\n",
       "    <tr>\n",
       "      <th>2</th>\n",
       "      <td>2011-01-01</td>\n",
       "      <td>0</td>\n",
       "      <td>northbound</td>\n",
       "      <td>19TH</td>\n",
       "      <td>19</td>\n",
       "      <td>91</td>\n",
       "      <td>Saturday</td>\n",
       "      <td>1</td>\n",
       "    </tr>\n",
       "    <tr>\n",
       "      <th>3</th>\n",
       "      <td>2011-01-01</td>\n",
       "      <td>0</td>\n",
       "      <td>northbound</td>\n",
       "      <td>24TH</td>\n",
       "      <td>72</td>\n",
       "      <td>32</td>\n",
       "      <td>Saturday</td>\n",
       "      <td>1</td>\n",
       "    </tr>\n",
       "    <tr>\n",
       "      <th>4</th>\n",
       "      <td>2011-01-01</td>\n",
       "      <td>0</td>\n",
       "      <td>northbound</td>\n",
       "      <td>BALB</td>\n",
       "      <td>72</td>\n",
       "      <td>5</td>\n",
       "      <td>Saturday</td>\n",
       "      <td>1</td>\n",
       "    </tr>\n",
       "  </tbody>\n",
       "</table>\n",
       "</div>"
      ],
      "text/plain": [
       "          date  hour   direction station  entries  exits       day  month\n",
       "id                                                                       \n",
       "0   2011-01-01     0  northbound    12TH       16    102  Saturday      1\n",
       "1   2011-01-01     0  northbound    16TH      168     26  Saturday      1\n",
       "2   2011-01-01     0  northbound    19TH       19     91  Saturday      1\n",
       "3   2011-01-01     0  northbound    24TH       72     32  Saturday      1\n",
       "4   2011-01-01     0  northbound    BALB       72      5  Saturday      1"
      ]
     },
     "execution_count": 10,
     "metadata": {},
     "output_type": "execute_result"
    }
   ],
   "source": [
    "entry_exit_df.head()"
   ]
  },
  {
   "cell_type": "code",
   "execution_count": 16,
   "metadata": {},
   "outputs": [
    {
     "name": "stdout",
     "output_type": "stream",
     "text": [
      "<class 'pandas.core.frame.DataFrame'>\n",
      "Int64Index: 2127992 entries, 0 to 2127991\n",
      "Data columns (total 8 columns):\n",
      "date         object\n",
      "hour         int64\n",
      "direction    object\n",
      "station      object\n",
      "entries      int64\n",
      "exits        int64\n",
      "day          object\n",
      "month        int64\n",
      "dtypes: int64(4), object(4)\n",
      "memory usage: 146.1+ MB\n"
     ]
    }
   ],
   "source": [
    "entry_exit_df.info()"
   ]
  },
  {
   "cell_type": "code",
   "execution_count": 15,
   "metadata": {},
   "outputs": [
    {
     "data": {
      "text/plain": [
       "count    2.127992e+06\n",
       "mean     1.710690e+02\n",
       "std      3.091400e+02\n",
       "min      1.000000e+00\n",
       "25%      1.600000e+01\n",
       "50%      6.100000e+01\n",
       "75%      1.940000e+02\n",
       "max      4.412000e+03\n",
       "Name: entries, dtype: float64"
      ]
     },
     "execution_count": 15,
     "metadata": {},
     "output_type": "execute_result"
    }
   ],
   "source": [
    "entry_exit_df['entries'].describe()"
   ]
  },
  {
   "cell_type": "markdown",
   "metadata": {},
   "source": [
    "## Check out the distribution"
   ]
  },
  {
   "cell_type": "code",
   "execution_count": 11,
   "metadata": {},
   "outputs": [
    {
     "data": {
      "text/plain": [
       "<matplotlib.axes._subplots.AxesSubplot at 0x1aafb77518>"
      ]
     },
     "execution_count": 11,
     "metadata": {},
     "output_type": "execute_result"
    },
    {
     "data": {
      "image/png": "[encoded data removed]",
      "text/plain": [
       "<matplotlib.figure.Figure at 0x116a893c8>"
      ]
     },
     "metadata": {},
     "output_type": "display_data"
    }
   ],
   "source": [
    "sns.distplot(entry_exit_df['entries'])"
   ]
  },
  {
   "cell_type": "code",
   "execution_count": 145,
   "metadata": {},
   "outputs": [],
   "source": [
    "#rowdicts = [] \n",
    "#for l, d in bart_entry_df.groupby(\"hour station direction\".split()):\n",
    "#    d = {\"hour\": l[0], \"station\": l[1], \"direction\": l[2]}\n",
    "#    rowdicts.append(d)                               \n",
    "#\n",
    "#df2 = pd.DataFrame.from_dict(rowdicts)\n",
    "grouped_df = bart_entry_df.groupby(['hour', 'station', 'direction']).mean()\n",
    "grouped_df.reset_index(inplace=True)\n",
    "grouped_df.drop(labels='month', axis=1, inplace=True)"
   ]
  },
  {
   "cell_type": "code",
   "execution_count": 146,
   "metadata": {},
   "outputs": [
    {
     "data": {
      "text/html": [
       "<div>\n",
       "<style scoped>\n",
       "    .dataframe tbody tr th:only-of-type {\n",
       "        vertical-align: middle;\n",
       "    }\n",
       "\n",
       "    .dataframe tbody tr th {\n",
       "        vertical-align: top;\n",
       "    }\n",
       "\n",
       "    .dataframe thead th {\n",
       "        text-align: right;\n",
       "    }\n",
       "</style>\n",
       "<table border=\"1\" class=\"dataframe\">\n",
       "  <thead>\n",
       "    <tr style=\"text-align: right;\">\n",
       "      <th></th>\n",
       "      <th>hour</th>\n",
       "      <th>station</th>\n",
       "      <th>direction</th>\n",
       "      <th>entries</th>\n",
       "    </tr>\n",
       "  </thead>\n",
       "  <tbody>\n",
       "    <tr>\n",
       "      <th>0</th>\n",
       "      <td>0</td>\n",
       "      <td>12TH</td>\n",
       "      <td>northbound</td>\n",
       "      <td>8.675000</td>\n",
       "    </tr>\n",
       "    <tr>\n",
       "      <th>1</th>\n",
       "      <td>0</td>\n",
       "      <td>12TH</td>\n",
       "      <td>southbound</td>\n",
       "      <td>21.572271</td>\n",
       "    </tr>\n",
       "    <tr>\n",
       "      <th>2</th>\n",
       "      <td>0</td>\n",
       "      <td>16TH</td>\n",
       "      <td>northbound</td>\n",
       "      <td>89.052486</td>\n",
       "    </tr>\n",
       "    <tr>\n",
       "      <th>3</th>\n",
       "      <td>0</td>\n",
       "      <td>16TH</td>\n",
       "      <td>southbound</td>\n",
       "      <td>47.867403</td>\n",
       "    </tr>\n",
       "    <tr>\n",
       "      <th>4</th>\n",
       "      <td>0</td>\n",
       "      <td>19TH</td>\n",
       "      <td>northbound</td>\n",
       "      <td>13.262570</td>\n",
       "    </tr>\n",
       "  </tbody>\n",
       "</table>\n",
       "</div>"
      ],
      "text/plain": [
       "   hour station   direction    entries\n",
       "0     0    12TH  northbound   8.675000\n",
       "1     0    12TH  southbound  21.572271\n",
       "2     0    16TH  northbound  89.052486\n",
       "3     0    16TH  southbound  47.867403\n",
       "4     0    19TH  northbound  13.262570"
      ]
     },
     "execution_count": 146,
     "metadata": {},
     "output_type": "execute_result"
    }
   ],
   "source": [
    "grouped_df.head()"
   ]
  },
  {
   "cell_type": "code",
   "execution_count": 147,
   "metadata": {},
   "outputs": [
    {
     "data": {
      "text/plain": [
       "<matplotlib.axes._subplots.AxesSubplot at 0x1a41865ac8>"
      ]
     },
     "execution_count": 147,
     "metadata": {},
     "output_type": "execute_result"
    },
    {
     "data": {
      "image/png": "[encoded data removed]",
      "text/plain": [
       "<matplotlib.figure.Figure at 0x1a3c7e1a90>"
      ]
     },
     "metadata": {},
     "output_type": "display_data"
    }
   ],
   "source": [
    "sns.tsplot(data=grouped_df, time=\"hour\", unit='station', value=\"entries\", condition=\"direction\")"
   ]
  },
  {
   "cell_type": "code",
   "execution_count": 153,
   "metadata": {},
   "outputs": [
    {
     "data": {
      "text/plain": [
       "station  day       hour\n",
       "MCAR     Friday    0        14.480000\n",
       "                   1         2.500000\n",
       "                   4        10.291667\n",
       "                   5        29.232323\n",
       "                   6        88.019231\n",
       "                   7       254.759615\n",
       "                   8       389.990385\n",
       "                   9       304.333333\n",
       "                   10      169.872549\n",
       "                   11      125.303922\n",
       "                   12      116.303922\n",
       "                   13      107.852941\n",
       "                   14      105.931373\n",
       "                   15      115.862745\n",
       "                   16      154.647059\n",
       "                   17      224.656863\n",
       "                   18      191.372549\n",
       "                   19      134.784314\n",
       "                   20       81.686275\n",
       "                   21       63.911765\n",
       "                   22       54.382353\n",
       "                   23       41.372549\n",
       "         Monday    0        11.434343\n",
       "                   1         2.000000\n",
       "                   4        12.000000\n",
       "                   5        29.923077\n",
       "                   6        88.505155\n",
       "                   7       269.122449\n",
       "                   8       397.009615\n",
       "                   9       293.951923\n",
       "                              ...    \n",
       "         Sunday    8        33.098039\n",
       "                   9        58.186275\n",
       "                   10       81.254902\n",
       "                   11       93.735294\n",
       "                   12      100.421569\n",
       "                   13      100.735294\n",
       "                   14       95.147059\n",
       "                   15       78.823529\n",
       "                   16       67.343137\n",
       "                   17       65.392157\n",
       "                   18       61.578431\n",
       "                   19       51.823529\n",
       "                   20       42.480392\n",
       "                   21       39.225490\n",
       "                   22       32.960784\n",
       "                   23       22.921569\n",
       "         Thursday  0        13.845361\n",
       "                   4        13.240000\n",
       "                   5        32.039216\n",
       "                   6        99.960784\n",
       "                   7       295.029412\n",
       "                   8       439.615385\n",
       "                   9       333.730769\n",
       "                   10      172.423077\n",
       "                   11      124.259615\n",
       "                   12      110.288462\n",
       "                   13       97.682692\n",
       "                   14       99.028846\n",
       "                   15      105.740385\n",
       "                   16      146.086538\n",
       "Name: entries, Length: 100, dtype: float64"
      ]
     },
     "execution_count": 153,
     "metadata": {},
     "output_type": "execute_result"
    }
   ],
   "source": [
    "# filter for the Mcarthur station\n",
    "df_mcar = bart_entry_df.loc[bart_entry_df['station']=='MCAR', :]\n",
    "\n",
    "# avg by station by hour, day, month\n",
    "mcar_mean = df_mcar.groupby(by=['station', 'day', 'hour']).mean()['entries']\n",
    "mcar_mean.fillna(value=0, inplace=True)\n",
    "\n",
    "mcar_mean.head(100)"
   ]
  },
  {
   "cell_type": "markdown",
   "metadata": {},
   "source": [
    "Do some pivots to get a glimpse of temporal trends"
   ]
  },
  {
   "cell_type": "code",
   "execution_count": 150,
   "metadata": {},
   "outputs": [
    {
     "data": {
      "text/html": [
       "<div>\n",
       "<style scoped>\n",
       "    .dataframe tbody tr th:only-of-type {\n",
       "        vertical-align: middle;\n",
       "    }\n",
       "\n",
       "    .dataframe tbody tr th {\n",
       "        vertical-align: top;\n",
       "    }\n",
       "\n",
       "    .dataframe thead th {\n",
       "        text-align: right;\n",
       "    }\n",
       "</style>\n",
       "<table border=\"1\" class=\"dataframe\">\n",
       "  <thead>\n",
       "    <tr style=\"text-align: right;\">\n",
       "      <th>hour</th>\n",
       "      <th>0</th>\n",
       "      <th>1</th>\n",
       "      <th>2</th>\n",
       "      <th>3</th>\n",
       "      <th>4</th>\n",
       "      <th>5</th>\n",
       "      <th>6</th>\n",
       "      <th>7</th>\n",
       "      <th>8</th>\n",
       "      <th>9</th>\n",
       "      <th>...</th>\n",
       "      <th>14</th>\n",
       "      <th>15</th>\n",
       "      <th>16</th>\n",
       "      <th>17</th>\n",
       "      <th>18</th>\n",
       "      <th>19</th>\n",
       "      <th>20</th>\n",
       "      <th>21</th>\n",
       "      <th>22</th>\n",
       "      <th>23</th>\n",
       "    </tr>\n",
       "    <tr>\n",
       "      <th>day</th>\n",
       "      <th></th>\n",
       "      <th></th>\n",
       "      <th></th>\n",
       "      <th></th>\n",
       "      <th></th>\n",
       "      <th></th>\n",
       "      <th></th>\n",
       "      <th></th>\n",
       "      <th></th>\n",
       "      <th></th>\n",
       "      <th></th>\n",
       "      <th></th>\n",
       "      <th></th>\n",
       "      <th></th>\n",
       "      <th></th>\n",
       "      <th></th>\n",
       "      <th></th>\n",
       "      <th></th>\n",
       "      <th></th>\n",
       "      <th></th>\n",
       "      <th></th>\n",
       "    </tr>\n",
       "  </thead>\n",
       "  <tbody>\n",
       "    <tr>\n",
       "      <th>Friday</th>\n",
       "      <td>14.480000</td>\n",
       "      <td>2.50</td>\n",
       "      <td>0.0</td>\n",
       "      <td>0.0</td>\n",
       "      <td>10.291667</td>\n",
       "      <td>29.232323</td>\n",
       "      <td>88.019231</td>\n",
       "      <td>254.759615</td>\n",
       "      <td>389.990385</td>\n",
       "      <td>304.333333</td>\n",
       "      <td>...</td>\n",
       "      <td>105.931373</td>\n",
       "      <td>115.862745</td>\n",
       "      <td>154.647059</td>\n",
       "      <td>224.656863</td>\n",
       "      <td>191.372549</td>\n",
       "      <td>134.784314</td>\n",
       "      <td>81.686275</td>\n",
       "      <td>63.911765</td>\n",
       "      <td>54.382353</td>\n",
       "      <td>41.372549</td>\n",
       "    </tr>\n",
       "    <tr>\n",
       "      <th>Monday</th>\n",
       "      <td>11.434343</td>\n",
       "      <td>2.00</td>\n",
       "      <td>0.0</td>\n",
       "      <td>0.0</td>\n",
       "      <td>12.000000</td>\n",
       "      <td>29.923077</td>\n",
       "      <td>88.505155</td>\n",
       "      <td>269.122449</td>\n",
       "      <td>397.009615</td>\n",
       "      <td>293.951923</td>\n",
       "      <td>...</td>\n",
       "      <td>90.721154</td>\n",
       "      <td>96.990385</td>\n",
       "      <td>133.644231</td>\n",
       "      <td>202.009615</td>\n",
       "      <td>175.423077</td>\n",
       "      <td>92.615385</td>\n",
       "      <td>52.509615</td>\n",
       "      <td>41.990385</td>\n",
       "      <td>35.153846</td>\n",
       "      <td>22.990385</td>\n",
       "    </tr>\n",
       "    <tr>\n",
       "      <th>Saturday</th>\n",
       "      <td>27.019608</td>\n",
       "      <td>20.75</td>\n",
       "      <td>35.0</td>\n",
       "      <td>17.5</td>\n",
       "      <td>0.000000</td>\n",
       "      <td>0.000000</td>\n",
       "      <td>15.750000</td>\n",
       "      <td>38.272727</td>\n",
       "      <td>59.480392</td>\n",
       "      <td>87.803922</td>\n",
       "      <td>...</td>\n",
       "      <td>119.500000</td>\n",
       "      <td>102.539216</td>\n",
       "      <td>98.803922</td>\n",
       "      <td>102.480392</td>\n",
       "      <td>90.441176</td>\n",
       "      <td>91.480392</td>\n",
       "      <td>73.029412</td>\n",
       "      <td>59.980392</td>\n",
       "      <td>53.519608</td>\n",
       "      <td>40.480392</td>\n",
       "    </tr>\n",
       "    <tr>\n",
       "      <th>Sunday</th>\n",
       "      <td>26.147059</td>\n",
       "      <td>1.00</td>\n",
       "      <td>0.0</td>\n",
       "      <td>0.0</td>\n",
       "      <td>0.000000</td>\n",
       "      <td>0.000000</td>\n",
       "      <td>220.000000</td>\n",
       "      <td>149.500000</td>\n",
       "      <td>33.098039</td>\n",
       "      <td>58.186275</td>\n",
       "      <td>...</td>\n",
       "      <td>95.147059</td>\n",
       "      <td>78.823529</td>\n",
       "      <td>67.343137</td>\n",
       "      <td>65.392157</td>\n",
       "      <td>61.578431</td>\n",
       "      <td>51.823529</td>\n",
       "      <td>42.480392</td>\n",
       "      <td>39.225490</td>\n",
       "      <td>32.960784</td>\n",
       "      <td>22.921569</td>\n",
       "    </tr>\n",
       "    <tr>\n",
       "      <th>Thursday</th>\n",
       "      <td>13.845361</td>\n",
       "      <td>0.00</td>\n",
       "      <td>0.0</td>\n",
       "      <td>0.0</td>\n",
       "      <td>13.240000</td>\n",
       "      <td>32.039216</td>\n",
       "      <td>99.960784</td>\n",
       "      <td>295.029412</td>\n",
       "      <td>439.615385</td>\n",
       "      <td>333.730769</td>\n",
       "      <td>...</td>\n",
       "      <td>99.028846</td>\n",
       "      <td>105.740385</td>\n",
       "      <td>146.086538</td>\n",
       "      <td>238.432692</td>\n",
       "      <td>206.173077</td>\n",
       "      <td>113.250000</td>\n",
       "      <td>66.865385</td>\n",
       "      <td>53.336538</td>\n",
       "      <td>46.471154</td>\n",
       "      <td>28.480769</td>\n",
       "    </tr>\n",
       "    <tr>\n",
       "      <th>Tuesday</th>\n",
       "      <td>11.294737</td>\n",
       "      <td>0.00</td>\n",
       "      <td>0.0</td>\n",
       "      <td>0.0</td>\n",
       "      <td>12.666667</td>\n",
       "      <td>31.165049</td>\n",
       "      <td>99.625000</td>\n",
       "      <td>299.576923</td>\n",
       "      <td>455.355769</td>\n",
       "      <td>337.067308</td>\n",
       "      <td>...</td>\n",
       "      <td>92.942308</td>\n",
       "      <td>100.826923</td>\n",
       "      <td>146.894231</td>\n",
       "      <td>230.528846</td>\n",
       "      <td>204.567308</td>\n",
       "      <td>105.894231</td>\n",
       "      <td>58.278846</td>\n",
       "      <td>49.980769</td>\n",
       "      <td>41.673077</td>\n",
       "      <td>25.711538</td>\n",
       "    </tr>\n",
       "    <tr>\n",
       "      <th>Wednesday</th>\n",
       "      <td>13.473684</td>\n",
       "      <td>4.00</td>\n",
       "      <td>0.0</td>\n",
       "      <td>0.0</td>\n",
       "      <td>12.387755</td>\n",
       "      <td>31.990291</td>\n",
       "      <td>98.250000</td>\n",
       "      <td>294.807692</td>\n",
       "      <td>470.211538</td>\n",
       "      <td>334.346154</td>\n",
       "      <td>...</td>\n",
       "      <td>97.423077</td>\n",
       "      <td>104.884615</td>\n",
       "      <td>148.586538</td>\n",
       "      <td>235.125000</td>\n",
       "      <td>203.326923</td>\n",
       "      <td>109.384615</td>\n",
       "      <td>60.451923</td>\n",
       "      <td>51.538462</td>\n",
       "      <td>43.576923</td>\n",
       "      <td>27.961538</td>\n",
       "    </tr>\n",
       "  </tbody>\n",
       "</table>\n",
       "<p>7 rows × 24 columns</p>\n",
       "</div>"
      ],
      "text/plain": [
       "hour              0      1     2     3          4          5           6   \\\n",
       "day                                                                         \n",
       "Friday     14.480000   2.50   0.0   0.0  10.291667  29.232323   88.019231   \n",
       "Monday     11.434343   2.00   0.0   0.0  12.000000  29.923077   88.505155   \n",
       "Saturday   27.019608  20.75  35.0  17.5   0.000000   0.000000   15.750000   \n",
       "Sunday     26.147059   1.00   0.0   0.0   0.000000   0.000000  220.000000   \n",
       "Thursday   13.845361   0.00   0.0   0.0  13.240000  32.039216   99.960784   \n",
       "Tuesday    11.294737   0.00   0.0   0.0  12.666667  31.165049   99.625000   \n",
       "Wednesday  13.473684   4.00   0.0   0.0  12.387755  31.990291   98.250000   \n",
       "\n",
       "hour               7           8           9     ...              14  \\\n",
       "day                                              ...                   \n",
       "Friday     254.759615  389.990385  304.333333    ...      105.931373   \n",
       "Monday     269.122449  397.009615  293.951923    ...       90.721154   \n",
       "Saturday    38.272727   59.480392   87.803922    ...      119.500000   \n",
       "Sunday     149.500000   33.098039   58.186275    ...       95.147059   \n",
       "Thursday   295.029412  439.615385  333.730769    ...       99.028846   \n",
       "Tuesday    299.576923  455.355769  337.067308    ...       92.942308   \n",
       "Wednesday  294.807692  470.211538  334.346154    ...       97.423077   \n",
       "\n",
       "hour               15          16          17          18          19  \\\n",
       "day                                                                     \n",
       "Friday     115.862745  154.647059  224.656863  191.372549  134.784314   \n",
       "Monday      96.990385  133.644231  202.009615  175.423077   92.615385   \n",
       "Saturday   102.539216   98.803922  102.480392   90.441176   91.480392   \n",
       "Sunday      78.823529   67.343137   65.392157   61.578431   51.823529   \n",
       "Thursday   105.740385  146.086538  238.432692  206.173077  113.250000   \n",
       "Tuesday    100.826923  146.894231  230.528846  204.567308  105.894231   \n",
       "Wednesday  104.884615  148.586538  235.125000  203.326923  109.384615   \n",
       "\n",
       "hour              20         21         22         23  \n",
       "day                                                    \n",
       "Friday     81.686275  63.911765  54.382353  41.372549  \n",
       "Monday     52.509615  41.990385  35.153846  22.990385  \n",
       "Saturday   73.029412  59.980392  53.519608  40.480392  \n",
       "Sunday     42.480392  39.225490  32.960784  22.921569  \n",
       "Thursday   66.865385  53.336538  46.471154  28.480769  \n",
       "Tuesday    58.278846  49.980769  41.673077  25.711538  \n",
       "Wednesday  60.451923  51.538462  43.576923  27.961538  \n",
       "\n",
       "[7 rows x 24 columns]"
      ]
     },
     "execution_count": 150,
     "metadata": {},
     "output_type": "execute_result"
    }
   ],
   "source": [
    "day_hour_avg = df_mcar.groupby(by=['day', 'hour']).mean()['entries'].unstack()\n",
    "day_hour_avg.fillna(value=0, inplace=True)\n",
    "day_hour_avg.head(10)"
   ]
  },
  {
   "cell_type": "code",
   "execution_count": 151,
   "metadata": {},
   "outputs": [
    {
     "data": {
      "text/plain": [
       "Text(0.5,1,'Avg # entries at MacArthur station')"
      ]
     },
     "execution_count": 151,
     "metadata": {},
     "output_type": "execute_result"
    },
    {
     "data": {
      "image/png": "[encoded data removed]",
      "text/plain": [
       "<matplotlib.figure.Figure at 0x1a56d30278>"
      ]
     },
     "metadata": {},
     "output_type": "display_data"
    }
   ],
   "source": [
    "# plot heat map of the days and hours with most rides\n",
    "sns.heatmap(day_hour_avg)\n",
    "plt.title('Avg # entries at MacArthur station')"
   ]
  },
  {
   "cell_type": "markdown",
   "metadata": {},
   "source": [
    "Might want to investigate the 6am blip on Sunday. Seems like a weird time to have a ridership spike."
   ]
  },
  {
   "cell_type": "code",
   "execution_count": null,
   "metadata": {},
   "outputs": [],
   "source": []
  }
 ],
 "metadata": {
  "kernelspec": {
   "display_name": "Python 3",
   "language": "python",
   "name": "python3"
  },
  "language_info": {
   "codemirror_mode": {
    "name": "ipython",
    "version": 3
   },
   "file_extension": ".py",
   "mimetype": "text/x-python",
   "name": "python",
   "nbconvert_exporter": "python",
   "pygments_lexer": "ipython3",
   "version": "3.6.4"
  }
 },
 "nbformat": 4,
 "nbformat_minor": 2
}
