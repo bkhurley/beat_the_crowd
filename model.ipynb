{
 "cells": [
  {
   "cell_type": "markdown",
   "metadata": {},
   "source": [
    "# Build and test some models"
   ]
  },
  {
   "cell_type": "code",
   "execution_count": 14,
   "metadata": {},
   "outputs": [],
   "source": [
    "import pandas as pd\n",
    "import numpy as np\n",
    "import matplotlib.pyplot as plt\n",
    "import matplotlib.figure as fig\n",
    "import seaborn as sns\n",
    "import sql_utils\n",
    "from sklearn.model_selection import train_test_split\n",
    "from sklearn.linear_model import LinearRegression\n",
    "from sklearn.linear_model import RidgeCV\n",
    "from sklearn import metrics\n",
    "from sklearn import preprocessing\n",
    "from sklearn.ensemble import RandomForestRegressor\n",
    "import pickle\n",
    "import time\n",
    "%matplotlib inline"
   ]
  },
  {
   "cell_type": "code",
   "execution_count": 88,
   "metadata": {},
   "outputs": [],
   "source": [
    "# plot in seaborn style\n",
    "sns.set(font_scale=1.5)"
   ]
  },
  {
   "cell_type": "code",
   "execution_count": 109,
   "metadata": {},
   "outputs": [],
   "source": [
    "# store the figure path for easy plotting to file\n",
    "figpath = '/Users/bkhurley/git/insight/project/beat_the_crowd/figures/'"
   ]
  },
  {
   "cell_type": "markdown",
   "metadata": {},
   "source": [
    "## Pull the data from postgres"
   ]
  },
  {
   "cell_type": "code",
   "execution_count": 2,
   "metadata": {},
   "outputs": [],
   "source": [
    "# select and join the BART and weather data from postgres\n",
    "bart_weather_df = sql_utils.pg2pd_join(table1='bart_entry_exit', table2='weather',\n",
    "                           on1='bart_entry_exit.date', on2='weather.datestamp')"
   ]
  },
  {
   "cell_type": "code",
   "execution_count": 3,
   "metadata": {},
   "outputs": [
    {
     "data": {
      "text/html": [
       "<div>\n",
       "<style scoped>\n",
       "    .dataframe tbody tr th:only-of-type {\n",
       "        vertical-align: middle;\n",
       "    }\n",
       "\n",
       "    .dataframe tbody tr th {\n",
       "        vertical-align: top;\n",
       "    }\n",
       "\n",
       "    .dataframe thead th {\n",
       "        text-align: right;\n",
       "    }\n",
       "</style>\n",
       "<table border=\"1\" class=\"dataframe\">\n",
       "  <thead>\n",
       "    <tr style=\"text-align: right;\">\n",
       "      <th></th>\n",
       "      <th>id</th>\n",
       "      <th>date</th>\n",
       "      <th>hour</th>\n",
       "      <th>direction</th>\n",
       "      <th>station</th>\n",
       "      <th>entries</th>\n",
       "      <th>exits</th>\n",
       "      <th>day</th>\n",
       "      <th>month</th>\n",
       "      <th>id</th>\n",
       "      <th>datestamp</th>\n",
       "      <th>mean_temperature</th>\n",
       "      <th>max_temperature</th>\n",
       "      <th>min_temperature</th>\n",
       "      <th>precipitation</th>\n",
       "      <th>rain</th>\n",
       "    </tr>\n",
       "  </thead>\n",
       "  <tbody>\n",
       "    <tr>\n",
       "      <th>0</th>\n",
       "      <td>0</td>\n",
       "      <td>2011-01-01</td>\n",
       "      <td>0</td>\n",
       "      <td>northbound</td>\n",
       "      <td>12TH</td>\n",
       "      <td>16</td>\n",
       "      <td>102</td>\n",
       "      <td>Saturday</td>\n",
       "      <td>1</td>\n",
       "      <td>0</td>\n",
       "      <td>2011-01-01</td>\n",
       "      <td>43.0</td>\n",
       "      <td>45.0</td>\n",
       "      <td>40.0</td>\n",
       "      <td>0.36</td>\n",
       "      <td>1</td>\n",
       "    </tr>\n",
       "    <tr>\n",
       "      <th>1</th>\n",
       "      <td>1</td>\n",
       "      <td>2011-01-01</td>\n",
       "      <td>0</td>\n",
       "      <td>northbound</td>\n",
       "      <td>16TH</td>\n",
       "      <td>168</td>\n",
       "      <td>26</td>\n",
       "      <td>Saturday</td>\n",
       "      <td>1</td>\n",
       "      <td>0</td>\n",
       "      <td>2011-01-01</td>\n",
       "      <td>43.0</td>\n",
       "      <td>45.0</td>\n",
       "      <td>40.0</td>\n",
       "      <td>0.36</td>\n",
       "      <td>1</td>\n",
       "    </tr>\n",
       "    <tr>\n",
       "      <th>2</th>\n",
       "      <td>2</td>\n",
       "      <td>2011-01-01</td>\n",
       "      <td>0</td>\n",
       "      <td>northbound</td>\n",
       "      <td>19TH</td>\n",
       "      <td>19</td>\n",
       "      <td>91</td>\n",
       "      <td>Saturday</td>\n",
       "      <td>1</td>\n",
       "      <td>0</td>\n",
       "      <td>2011-01-01</td>\n",
       "      <td>43.0</td>\n",
       "      <td>45.0</td>\n",
       "      <td>40.0</td>\n",
       "      <td>0.36</td>\n",
       "      <td>1</td>\n",
       "    </tr>\n",
       "    <tr>\n",
       "      <th>3</th>\n",
       "      <td>3</td>\n",
       "      <td>2011-01-01</td>\n",
       "      <td>0</td>\n",
       "      <td>northbound</td>\n",
       "      <td>24TH</td>\n",
       "      <td>72</td>\n",
       "      <td>32</td>\n",
       "      <td>Saturday</td>\n",
       "      <td>1</td>\n",
       "      <td>0</td>\n",
       "      <td>2011-01-01</td>\n",
       "      <td>43.0</td>\n",
       "      <td>45.0</td>\n",
       "      <td>40.0</td>\n",
       "      <td>0.36</td>\n",
       "      <td>1</td>\n",
       "    </tr>\n",
       "    <tr>\n",
       "      <th>4</th>\n",
       "      <td>4</td>\n",
       "      <td>2011-01-01</td>\n",
       "      <td>0</td>\n",
       "      <td>northbound</td>\n",
       "      <td>BALB</td>\n",
       "      <td>72</td>\n",
       "      <td>5</td>\n",
       "      <td>Saturday</td>\n",
       "      <td>1</td>\n",
       "      <td>0</td>\n",
       "      <td>2011-01-01</td>\n",
       "      <td>43.0</td>\n",
       "      <td>45.0</td>\n",
       "      <td>40.0</td>\n",
       "      <td>0.36</td>\n",
       "      <td>1</td>\n",
       "    </tr>\n",
       "  </tbody>\n",
       "</table>\n",
       "</div>"
      ],
      "text/plain": [
       "   id        date hour   direction station  entries  exits       day month  \\\n",
       "0   0  2011-01-01    0  northbound    12TH       16    102  Saturday     1   \n",
       "1   1  2011-01-01    0  northbound    16TH      168     26  Saturday     1   \n",
       "2   2  2011-01-01    0  northbound    19TH       19     91  Saturday     1   \n",
       "3   3  2011-01-01    0  northbound    24TH       72     32  Saturday     1   \n",
       "4   4  2011-01-01    0  northbound    BALB       72      5  Saturday     1   \n",
       "\n",
       "   id   datestamp  mean_temperature  max_temperature  min_temperature  \\\n",
       "0   0  2011-01-01              43.0             45.0             40.0   \n",
       "1   0  2011-01-01              43.0             45.0             40.0   \n",
       "2   0  2011-01-01              43.0             45.0             40.0   \n",
       "3   0  2011-01-01              43.0             45.0             40.0   \n",
       "4   0  2011-01-01              43.0             45.0             40.0   \n",
       "\n",
       "   precipitation  rain  \n",
       "0           0.36     1  \n",
       "1           0.36     1  \n",
       "2           0.36     1  \n",
       "3           0.36     1  \n",
       "4           0.36     1  "
      ]
     },
     "execution_count": 3,
     "metadata": {},
     "output_type": "execute_result"
    }
   ],
   "source": [
    "bart_weather_df.head()"
   ]
  },
  {
   "cell_type": "code",
   "execution_count": 4,
   "metadata": {},
   "outputs": [
    {
     "data": {
      "text/html": [
       "<div>\n",
       "<style scoped>\n",
       "    .dataframe tbody tr th:only-of-type {\n",
       "        vertical-align: middle;\n",
       "    }\n",
       "\n",
       "    .dataframe tbody tr th {\n",
       "        vertical-align: top;\n",
       "    }\n",
       "\n",
       "    .dataframe thead th {\n",
       "        text-align: right;\n",
       "    }\n",
       "</style>\n",
       "<table border=\"1\" class=\"dataframe\">\n",
       "  <thead>\n",
       "    <tr style=\"text-align: right;\">\n",
       "      <th></th>\n",
       "      <th>date</th>\n",
       "      <th>hour</th>\n",
       "      <th>direction</th>\n",
       "      <th>station</th>\n",
       "      <th>entries</th>\n",
       "      <th>exits</th>\n",
       "      <th>day</th>\n",
       "      <th>month</th>\n",
       "      <th>mean_temperature</th>\n",
       "      <th>max_temperature</th>\n",
       "      <th>min_temperature</th>\n",
       "      <th>precipitation</th>\n",
       "      <th>rain</th>\n",
       "    </tr>\n",
       "  </thead>\n",
       "  <tbody>\n",
       "    <tr>\n",
       "      <th>0</th>\n",
       "      <td>2011-01-01</td>\n",
       "      <td>0</td>\n",
       "      <td>northbound</td>\n",
       "      <td>12TH</td>\n",
       "      <td>16</td>\n",
       "      <td>102</td>\n",
       "      <td>Saturday</td>\n",
       "      <td>1</td>\n",
       "      <td>43.0</td>\n",
       "      <td>45.0</td>\n",
       "      <td>40.0</td>\n",
       "      <td>0.36</td>\n",
       "      <td>1</td>\n",
       "    </tr>\n",
       "    <tr>\n",
       "      <th>1</th>\n",
       "      <td>2011-01-01</td>\n",
       "      <td>0</td>\n",
       "      <td>northbound</td>\n",
       "      <td>16TH</td>\n",
       "      <td>168</td>\n",
       "      <td>26</td>\n",
       "      <td>Saturday</td>\n",
       "      <td>1</td>\n",
       "      <td>43.0</td>\n",
       "      <td>45.0</td>\n",
       "      <td>40.0</td>\n",
       "      <td>0.36</td>\n",
       "      <td>1</td>\n",
       "    </tr>\n",
       "    <tr>\n",
       "      <th>2</th>\n",
       "      <td>2011-01-01</td>\n",
       "      <td>0</td>\n",
       "      <td>northbound</td>\n",
       "      <td>19TH</td>\n",
       "      <td>19</td>\n",
       "      <td>91</td>\n",
       "      <td>Saturday</td>\n",
       "      <td>1</td>\n",
       "      <td>43.0</td>\n",
       "      <td>45.0</td>\n",
       "      <td>40.0</td>\n",
       "      <td>0.36</td>\n",
       "      <td>1</td>\n",
       "    </tr>\n",
       "    <tr>\n",
       "      <th>3</th>\n",
       "      <td>2011-01-01</td>\n",
       "      <td>0</td>\n",
       "      <td>northbound</td>\n",
       "      <td>24TH</td>\n",
       "      <td>72</td>\n",
       "      <td>32</td>\n",
       "      <td>Saturday</td>\n",
       "      <td>1</td>\n",
       "      <td>43.0</td>\n",
       "      <td>45.0</td>\n",
       "      <td>40.0</td>\n",
       "      <td>0.36</td>\n",
       "      <td>1</td>\n",
       "    </tr>\n",
       "    <tr>\n",
       "      <th>4</th>\n",
       "      <td>2011-01-01</td>\n",
       "      <td>0</td>\n",
       "      <td>northbound</td>\n",
       "      <td>BALB</td>\n",
       "      <td>72</td>\n",
       "      <td>5</td>\n",
       "      <td>Saturday</td>\n",
       "      <td>1</td>\n",
       "      <td>43.0</td>\n",
       "      <td>45.0</td>\n",
       "      <td>40.0</td>\n",
       "      <td>0.36</td>\n",
       "      <td>1</td>\n",
       "    </tr>\n",
       "  </tbody>\n",
       "</table>\n",
       "</div>"
      ],
      "text/plain": [
       "         date hour   direction station  entries  exits       day month  \\\n",
       "0  2011-01-01    0  northbound    12TH       16    102  Saturday     1   \n",
       "1  2011-01-01    0  northbound    16TH      168     26  Saturday     1   \n",
       "2  2011-01-01    0  northbound    19TH       19     91  Saturday     1   \n",
       "3  2011-01-01    0  northbound    24TH       72     32  Saturday     1   \n",
       "4  2011-01-01    0  northbound    BALB       72      5  Saturday     1   \n",
       "\n",
       "   mean_temperature  max_temperature  min_temperature  precipitation  rain  \n",
       "0              43.0             45.0             40.0           0.36     1  \n",
       "1              43.0             45.0             40.0           0.36     1  \n",
       "2              43.0             45.0             40.0           0.36     1  \n",
       "3              43.0             45.0             40.0           0.36     1  \n",
       "4              43.0             45.0             40.0           0.36     1  "
      ]
     },
     "execution_count": 4,
     "metadata": {},
     "output_type": "execute_result"
    }
   ],
   "source": [
    "# remove the redundant 'id' and 'datestamp' columns\n",
    "bart_weather_df.drop(labels=['id', 'datestamp'], axis=1, inplace=True)\n",
    "bart_weather_df.head()"
   ]
  },
  {
   "cell_type": "markdown",
   "metadata": {},
   "source": [
    "-------\n",
    "## Transform features before feeding to model\n",
    "Generate some new features, and transform categorical features to binary dummy variables "
   ]
  },
  {
   "cell_type": "code",
   "execution_count": 5,
   "metadata": {},
   "outputs": [
    {
     "name": "stdout",
     "output_type": "stream",
     "text": [
      "<class 'pandas.core.frame.DataFrame'>\n",
      "RangeIndex: 2126069 entries, 0 to 2126068\n",
      "Data columns (total 13 columns):\n",
      "date                object\n",
      "hour                object\n",
      "direction           object\n",
      "station             object\n",
      "entries             int64\n",
      "exits               int64\n",
      "day                 object\n",
      "month               object\n",
      "mean_temperature    float64\n",
      "max_temperature     float64\n",
      "min_temperature     float64\n",
      "precipitation       float64\n",
      "rain                int64\n",
      "dtypes: float64(4), int64(3), object(6)\n",
      "memory usage: 210.9+ MB\n"
     ]
    }
   ],
   "source": [
    "# take a look at the current data types\n",
    "bart_weather_df.info()"
   ]
  },
  {
   "cell_type": "code",
   "execution_count": 6,
   "metadata": {},
   "outputs": [],
   "source": [
    "# restrict to only the columns to be used in the models\n",
    "model_data = bart_weather_df[['hour', 'direction', 'station', 'entries', \n",
    "                              'day','month', 'max_temperature', 'rain']]\n",
    "# remove NaN from data before training\n",
    "model_data = model_data.loc[(~model_data.isnull().any(axis=1)), :]"
   ]
  },
  {
   "cell_type": "markdown",
   "metadata": {},
   "source": [
    " ### Transform categorical features to binary dummy variables"
   ]
  },
  {
   "cell_type": "code",
   "execution_count": 7,
   "metadata": {},
   "outputs": [],
   "source": [
    "# create a weekday dummy variable\n",
    "model_data['weekday'] = 0\n",
    "model_data.loc[model_data['day'].isin([\n",
    "    'Monday', 'Tuesday', 'Wednesday', 'Thursday', 'Friday']), 'weekday'] = 1"
   ]
  },
  {
   "cell_type": "code",
   "execution_count": 8,
   "metadata": {},
   "outputs": [],
   "source": [
    "# transform direction to binary dummy\n",
    "model_data['northbound'] = 0\n",
    "model_data.loc[model_data['direction'] == 'northbound', 'northbound'] = 1\n",
    "# drop the original categorical feature\n",
    "model_data.drop('direction', axis=1, inplace=True)"
   ]
  },
  {
   "cell_type": "code",
   "execution_count": 9,
   "metadata": {},
   "outputs": [
    {
     "data": {
      "text/html": [
       "<div>\n",
       "<style scoped>\n",
       "    .dataframe tbody tr th:only-of-type {\n",
       "        vertical-align: middle;\n",
       "    }\n",
       "\n",
       "    .dataframe tbody tr th {\n",
       "        vertical-align: top;\n",
       "    }\n",
       "\n",
       "    .dataframe thead th {\n",
       "        text-align: right;\n",
       "    }\n",
       "</style>\n",
       "<table border=\"1\" class=\"dataframe\">\n",
       "  <thead>\n",
       "    <tr style=\"text-align: right;\">\n",
       "      <th></th>\n",
       "      <th>hour</th>\n",
       "      <th>station</th>\n",
       "      <th>entries</th>\n",
       "      <th>day</th>\n",
       "      <th>month</th>\n",
       "      <th>max_temperature</th>\n",
       "      <th>rain</th>\n",
       "      <th>weekday</th>\n",
       "      <th>northbound</th>\n",
       "    </tr>\n",
       "  </thead>\n",
       "  <tbody>\n",
       "    <tr>\n",
       "      <th>0</th>\n",
       "      <td>0</td>\n",
       "      <td>12TH</td>\n",
       "      <td>16</td>\n",
       "      <td>Saturday</td>\n",
       "      <td>1</td>\n",
       "      <td>45.0</td>\n",
       "      <td>1</td>\n",
       "      <td>0</td>\n",
       "      <td>1</td>\n",
       "    </tr>\n",
       "    <tr>\n",
       "      <th>1</th>\n",
       "      <td>0</td>\n",
       "      <td>16TH</td>\n",
       "      <td>168</td>\n",
       "      <td>Saturday</td>\n",
       "      <td>1</td>\n",
       "      <td>45.0</td>\n",
       "      <td>1</td>\n",
       "      <td>0</td>\n",
       "      <td>1</td>\n",
       "    </tr>\n",
       "    <tr>\n",
       "      <th>2</th>\n",
       "      <td>0</td>\n",
       "      <td>19TH</td>\n",
       "      <td>19</td>\n",
       "      <td>Saturday</td>\n",
       "      <td>1</td>\n",
       "      <td>45.0</td>\n",
       "      <td>1</td>\n",
       "      <td>0</td>\n",
       "      <td>1</td>\n",
       "    </tr>\n",
       "    <tr>\n",
       "      <th>3</th>\n",
       "      <td>0</td>\n",
       "      <td>24TH</td>\n",
       "      <td>72</td>\n",
       "      <td>Saturday</td>\n",
       "      <td>1</td>\n",
       "      <td>45.0</td>\n",
       "      <td>1</td>\n",
       "      <td>0</td>\n",
       "      <td>1</td>\n",
       "    </tr>\n",
       "    <tr>\n",
       "      <th>4</th>\n",
       "      <td>0</td>\n",
       "      <td>BALB</td>\n",
       "      <td>72</td>\n",
       "      <td>Saturday</td>\n",
       "      <td>1</td>\n",
       "      <td>45.0</td>\n",
       "      <td>1</td>\n",
       "      <td>0</td>\n",
       "      <td>1</td>\n",
       "    </tr>\n",
       "  </tbody>\n",
       "</table>\n",
       "</div>"
      ],
      "text/plain": [
       "  hour station  entries       day month  max_temperature  rain  weekday  \\\n",
       "0    0    12TH       16  Saturday     1             45.0     1        0   \n",
       "1    0    16TH      168  Saturday     1             45.0     1        0   \n",
       "2    0    19TH       19  Saturday     1             45.0     1        0   \n",
       "3    0    24TH       72  Saturday     1             45.0     1        0   \n",
       "4    0    BALB       72  Saturday     1             45.0     1        0   \n",
       "\n",
       "   northbound  \n",
       "0           1  \n",
       "1           1  \n",
       "2           1  \n",
       "3           1  \n",
       "4           1  "
      ]
     },
     "execution_count": 9,
     "metadata": {},
     "output_type": "execute_result"
    }
   ],
   "source": [
    "model_data.head()"
   ]
  },
  {
   "cell_type": "code",
   "execution_count": 10,
   "metadata": {},
   "outputs": [],
   "source": [
    "# transform categorical features into binary dummy variables\n",
    "model_data_binary = pd.get_dummies(model_data)"
   ]
  },
  {
   "cell_type": "code",
   "execution_count": 11,
   "metadata": {},
   "outputs": [
    {
     "data": {
      "text/html": [
       "<div>\n",
       "<style scoped>\n",
       "    .dataframe tbody tr th:only-of-type {\n",
       "        vertical-align: middle;\n",
       "    }\n",
       "\n",
       "    .dataframe tbody tr th {\n",
       "        vertical-align: top;\n",
       "    }\n",
       "\n",
       "    .dataframe thead th {\n",
       "        text-align: right;\n",
       "    }\n",
       "</style>\n",
       "<table border=\"1\" class=\"dataframe\">\n",
       "  <thead>\n",
       "    <tr style=\"text-align: right;\">\n",
       "      <th></th>\n",
       "      <th>entries</th>\n",
       "      <th>max_temperature</th>\n",
       "      <th>rain</th>\n",
       "      <th>weekday</th>\n",
       "      <th>northbound</th>\n",
       "      <th>hour_0</th>\n",
       "      <th>hour_1</th>\n",
       "      <th>hour_10</th>\n",
       "      <th>hour_11</th>\n",
       "      <th>hour_12</th>\n",
       "      <th>...</th>\n",
       "      <th>month_11</th>\n",
       "      <th>month_12</th>\n",
       "      <th>month_2</th>\n",
       "      <th>month_3</th>\n",
       "      <th>month_4</th>\n",
       "      <th>month_5</th>\n",
       "      <th>month_6</th>\n",
       "      <th>month_7</th>\n",
       "      <th>month_8</th>\n",
       "      <th>month_9</th>\n",
       "    </tr>\n",
       "  </thead>\n",
       "  <tbody>\n",
       "    <tr>\n",
       "      <th>0</th>\n",
       "      <td>16</td>\n",
       "      <td>45.0</td>\n",
       "      <td>1</td>\n",
       "      <td>0</td>\n",
       "      <td>1</td>\n",
       "      <td>1</td>\n",
       "      <td>0</td>\n",
       "      <td>0</td>\n",
       "      <td>0</td>\n",
       "      <td>0</td>\n",
       "      <td>...</td>\n",
       "      <td>0</td>\n",
       "      <td>0</td>\n",
       "      <td>0</td>\n",
       "      <td>0</td>\n",
       "      <td>0</td>\n",
       "      <td>0</td>\n",
       "      <td>0</td>\n",
       "      <td>0</td>\n",
       "      <td>0</td>\n",
       "      <td>0</td>\n",
       "    </tr>\n",
       "    <tr>\n",
       "      <th>1</th>\n",
       "      <td>168</td>\n",
       "      <td>45.0</td>\n",
       "      <td>1</td>\n",
       "      <td>0</td>\n",
       "      <td>1</td>\n",
       "      <td>1</td>\n",
       "      <td>0</td>\n",
       "      <td>0</td>\n",
       "      <td>0</td>\n",
       "      <td>0</td>\n",
       "      <td>...</td>\n",
       "      <td>0</td>\n",
       "      <td>0</td>\n",
       "      <td>0</td>\n",
       "      <td>0</td>\n",
       "      <td>0</td>\n",
       "      <td>0</td>\n",
       "      <td>0</td>\n",
       "      <td>0</td>\n",
       "      <td>0</td>\n",
       "      <td>0</td>\n",
       "    </tr>\n",
       "    <tr>\n",
       "      <th>2</th>\n",
       "      <td>19</td>\n",
       "      <td>45.0</td>\n",
       "      <td>1</td>\n",
       "      <td>0</td>\n",
       "      <td>1</td>\n",
       "      <td>1</td>\n",
       "      <td>0</td>\n",
       "      <td>0</td>\n",
       "      <td>0</td>\n",
       "      <td>0</td>\n",
       "      <td>...</td>\n",
       "      <td>0</td>\n",
       "      <td>0</td>\n",
       "      <td>0</td>\n",
       "      <td>0</td>\n",
       "      <td>0</td>\n",
       "      <td>0</td>\n",
       "      <td>0</td>\n",
       "      <td>0</td>\n",
       "      <td>0</td>\n",
       "      <td>0</td>\n",
       "    </tr>\n",
       "    <tr>\n",
       "      <th>3</th>\n",
       "      <td>72</td>\n",
       "      <td>45.0</td>\n",
       "      <td>1</td>\n",
       "      <td>0</td>\n",
       "      <td>1</td>\n",
       "      <td>1</td>\n",
       "      <td>0</td>\n",
       "      <td>0</td>\n",
       "      <td>0</td>\n",
       "      <td>0</td>\n",
       "      <td>...</td>\n",
       "      <td>0</td>\n",
       "      <td>0</td>\n",
       "      <td>0</td>\n",
       "      <td>0</td>\n",
       "      <td>0</td>\n",
       "      <td>0</td>\n",
       "      <td>0</td>\n",
       "      <td>0</td>\n",
       "      <td>0</td>\n",
       "      <td>0</td>\n",
       "    </tr>\n",
       "    <tr>\n",
       "      <th>4</th>\n",
       "      <td>72</td>\n",
       "      <td>45.0</td>\n",
       "      <td>1</td>\n",
       "      <td>0</td>\n",
       "      <td>1</td>\n",
       "      <td>1</td>\n",
       "      <td>0</td>\n",
       "      <td>0</td>\n",
       "      <td>0</td>\n",
       "      <td>0</td>\n",
       "      <td>...</td>\n",
       "      <td>0</td>\n",
       "      <td>0</td>\n",
       "      <td>0</td>\n",
       "      <td>0</td>\n",
       "      <td>0</td>\n",
       "      <td>0</td>\n",
       "      <td>0</td>\n",
       "      <td>0</td>\n",
       "      <td>0</td>\n",
       "      <td>0</td>\n",
       "    </tr>\n",
       "  </tbody>\n",
       "</table>\n",
       "<p>5 rows × 72 columns</p>\n",
       "</div>"
      ],
      "text/plain": [
       "   entries  max_temperature  rain  weekday  northbound  hour_0  hour_1  \\\n",
       "0       16             45.0     1        0           1       1       0   \n",
       "1      168             45.0     1        0           1       1       0   \n",
       "2       19             45.0     1        0           1       1       0   \n",
       "3       72             45.0     1        0           1       1       0   \n",
       "4       72             45.0     1        0           1       1       0   \n",
       "\n",
       "   hour_10  hour_11  hour_12   ...     month_11  month_12  month_2  month_3  \\\n",
       "0        0        0        0   ...            0         0        0        0   \n",
       "1        0        0        0   ...            0         0        0        0   \n",
       "2        0        0        0   ...            0         0        0        0   \n",
       "3        0        0        0   ...            0         0        0        0   \n",
       "4        0        0        0   ...            0         0        0        0   \n",
       "\n",
       "   month_4  month_5  month_6  month_7  month_8  month_9  \n",
       "0        0        0        0        0        0        0  \n",
       "1        0        0        0        0        0        0  \n",
       "2        0        0        0        0        0        0  \n",
       "3        0        0        0        0        0        0  \n",
       "4        0        0        0        0        0        0  \n",
       "\n",
       "[5 rows x 72 columns]"
      ]
     },
     "execution_count": 11,
     "metadata": {},
     "output_type": "execute_result"
    }
   ],
   "source": [
    "model_data_binary.head()"
   ]
  },
  {
   "cell_type": "markdown",
   "metadata": {},
   "source": [
    "-------\n",
    "# Linear Regression\n",
    "Train regression models to predict passenger crowding using the above features. "
   ]
  },
  {
   "cell_type": "markdown",
   "metadata": {},
   "source": [
    "## Least-squares regression\n",
    "First, use a simple *ordinary least-squares (OLS) regression* model"
   ]
  },
  {
   "cell_type": "markdown",
   "metadata": {},
   "source": [
    "#### Partition data for validation\n",
    "Partition into 80% training set and 20% test set. "
   ]
  },
  {
   "cell_type": "code",
   "execution_count": 12,
   "metadata": {},
   "outputs": [],
   "source": [
    "X = model_data_binary.drop('entries', axis=1) # features = all columns except 'entries'\n",
    "y = model_data_binary['entries']"
   ]
  },
  {
   "cell_type": "code",
   "execution_count": 13,
   "metadata": {},
   "outputs": [],
   "source": [
    "X_train, X_test, y_train, y_test = train_test_split(X, y, test_size=0.2, random_state=1)"
   ]
  },
  {
   "cell_type": "markdown",
   "metadata": {},
   "source": [
    "### Train model\n",
    "Fit an OLS regression model to the training data"
   ]
  },
  {
   "cell_type": "code",
   "execution_count": 250,
   "metadata": {},
   "outputs": [
    {
     "data": {
      "text/plain": [
       "LinearRegression(copy_X=True, fit_intercept=True, n_jobs=1, normalize=False)"
      ]
     },
     "execution_count": 250,
     "metadata": {},
     "output_type": "execute_result"
    }
   ],
   "source": [
    "lm = LinearRegression()\n",
    "lm.fit(X_train,y_train)"
   ]
  },
  {
   "cell_type": "markdown",
   "metadata": {},
   "source": [
    "### Evaluate model predictions"
   ]
  },
  {
   "cell_type": "code",
   "execution_count": 251,
   "metadata": {},
   "outputs": [],
   "source": [
    "figpath = '/Users/bkhurley/git/insight/project/beat_the_crowd/figures/'"
   ]
  },
  {
   "cell_type": "code",
   "execution_count": 252,
   "metadata": {},
   "outputs": [],
   "source": [
    "predictions = lm.predict(X_test)"
   ]
  },
  {
   "cell_type": "code",
   "execution_count": 253,
   "metadata": {
    "scrolled": true
   },
   "outputs": [
    {
     "data": {
      "image/png": "[encoded data removed]",
      "text/plain": [
       "<matplotlib.figure.Figure at 0x1a51186b00>"
      ]
     },
     "metadata": {},
     "output_type": "display_data"
    }
   ],
   "source": [
    "plt.scatter(y_test, predictions, s=3)\n",
    "plt.xlabel('Testing Data')\n",
    "plt.ylabel('Model Prediction')\n",
    "plt.savefig(figpath + 'ols_predict.png')"
   ]
  },
  {
   "cell_type": "markdown",
   "metadata": {},
   "source": [
    "Looks like the OLS model is pretty biased. This is likely due to the extreme outliers of the high-volume stations at high-volume times (e.g., downtown SF stations at rushour)."
   ]
  },
  {
   "cell_type": "markdown",
   "metadata": {},
   "source": [
    "### Evaluate model"
   ]
  },
  {
   "cell_type": "code",
   "execution_count": 254,
   "metadata": {},
   "outputs": [
    {
     "name": "stdout",
     "output_type": "stream",
     "text": [
      "RSS:  28938547159.113773\n",
      "MAE: 154.935119327\n",
      "MSE: 68056.4307833\n",
      "RMSE: 260.876274857\n",
      "R^2:  0.289005124996\n"
     ]
    }
   ],
   "source": [
    "print('RSS: ', sum((y_test - predictions)**2))\n",
    "print('MAE:', metrics.mean_absolute_error(y_test, predictions))\n",
    "print('MSE:', metrics.mean_squared_error(y_test, predictions))\n",
    "print('RMSE:', np.sqrt(metrics.mean_squared_error(y_test, predictions)))\n",
    "print('R^2: ', metrics.r2_score(y_test, predictions))"
   ]
  },
  {
   "cell_type": "markdown",
   "metadata": {},
   "source": [
    "#### Residuals"
   ]
  },
  {
   "cell_type": "code",
   "execution_count": 210,
   "metadata": {},
   "outputs": [
    {
     "data": {
      "image/png": "[encoded data removed]",
      "text/plain": [
       "<matplotlib.figure.Figure at 0x1a517a1390>"
      ]
     },
     "metadata": {},
     "output_type": "display_data"
    }
   ],
   "source": [
    "sns.distplot((y_test-predictions),bins=50);\n",
    "plt.title('Distribution of OLS Residuals')\n",
    "plt.savefig(figpath + 'ols_resid.png')"
   ]
  },
  {
   "cell_type": "code",
   "execution_count": 167,
   "metadata": {},
   "outputs": [],
   "source": [
    "# dump model to pickle file so I can pick it up in Flask\n",
    "with open('lm.pkl', 'wb') as fid:\n",
    "    pickle.dump(lm, fid,2) "
   ]
  },
  {
   "cell_type": "code",
   "execution_count": 168,
   "metadata": {},
   "outputs": [],
   "source": [
    "#For building feature vectors, create a dataframe with the dummy variables\n",
    "feats = model_data_binary.drop('entries', axis=1)\n",
    "index_dict = dict(zip(feats.columns,range(feats.shape[1])))\n",
    "with open('cat.pkl', 'wb') as fid:\n",
    "    pickle.dump(index_dict, fid,2) "
   ]
  },
  {
   "cell_type": "markdown",
   "metadata": {},
   "source": [
    "## Ridge Regression\n",
    "OLS did not perform very good. With the one-hot encoding of multi-class categoricals, we ended up with 70+ features. This might lead to an over-fitting to the training data. Let's use a ridge regression to impart some regularization and shrink the less informative features."
   ]
  },
  {
   "cell_type": "markdown",
   "metadata": {},
   "source": [
    "### Train model\n",
    "Fit ridge model under each tuning value, and select best penalty (`alpha`) using cross-validation.  "
   ]
  },
  {
   "cell_type": "code",
   "execution_count": 192,
   "metadata": {},
   "outputs": [],
   "source": [
    "# define array of tuning values to test\n",
    "tuning = np.logspace(0, 7, num=15)\n",
    "# fit ridge model to data using 10-fold CV\n",
    "ridge = RidgeCV(alphas=tuning, cv=10)"
   ]
  },
  {
   "cell_type": "code",
   "execution_count": 193,
   "metadata": {},
   "outputs": [
    {
     "name": "stdout",
     "output_type": "stream",
     "text": [
      "34.65736091931661 minutes elapsed\n"
     ]
    }
   ],
   "source": [
    "# start timer\n",
    "start = time.time()\n",
    "\n",
    "ridge.fit(X, y)\n",
    "\n",
    "# end timer\n",
    "end = time.time()\n",
    "elapsed = end-start\n",
    "print(str(elapsed/60) + ' minutes elapsed' )"
   ]
  },
  {
   "cell_type": "code",
   "execution_count": 194,
   "metadata": {},
   "outputs": [
    {
     "name": "stdout",
     "output_type": "stream",
     "text": [
      "Optimal tuning parameter value:  1000.0\n"
     ]
    }
   ],
   "source": [
    "print('Optimal tuning parameter value: ', ridge.alpha_)"
   ]
  },
  {
   "cell_type": "markdown",
   "metadata": {},
   "source": [
    "### Evaluate model predictions"
   ]
  },
  {
   "cell_type": "code",
   "execution_count": 195,
   "metadata": {},
   "outputs": [],
   "source": [
    "ridge_predictions = ridge.predict(X)"
   ]
  },
  {
   "cell_type": "code",
   "execution_count": 196,
   "metadata": {},
   "outputs": [
    {
     "name": "stdout",
     "output_type": "stream",
     "text": [
      "MSE: 67967.7997637\n",
      "RMSE: 260.706347763\n",
      "R^2:  0.288578701692\n"
     ]
    }
   ],
   "source": [
    "print('MSE:', metrics.mean_squared_error(y, ridge_predictions))\n",
    "print('RMSE:', np.sqrt(metrics.mean_squared_error(y, ridge_predictions)))\n",
    "print('R^2: ', ridge.score(X, y))"
   ]
  },
  {
   "cell_type": "markdown",
   "metadata": {},
   "source": [
    "No improvement in model fit compared to the simple OLS regression. Predictions are still pretty biased, as shown below. Perhaps a polynomial model would improve things."
   ]
  },
  {
   "cell_type": "code",
   "execution_count": 198,
   "metadata": {},
   "outputs": [
    {
     "data": {
      "text/plain": [
       "Text(0,0.5,'Ridge-Predicted Crowd Levels')"
      ]
     },
     "execution_count": 198,
     "metadata": {},
     "output_type": "execute_result"
    },
    {
     "data": {
      "image/png": "[encoded data removed]",
      "text/plain": [
       "<matplotlib.figure.Figure at 0x1a4cda6080>"
      ]
     },
     "metadata": {},
     "output_type": "display_data"
    }
   ],
   "source": [
    "plt.scatter(y, ridge_predictions, s=3)\n",
    "plt.xlabel('Observed Crowd Levels')\n",
    "plt.ylabel('Ridge-Predicted Crowd Levels')"
   ]
  },
  {
   "cell_type": "code",
   "execution_count": 199,
   "metadata": {},
   "outputs": [
    {
     "data": {
      "text/plain": [
       "<matplotlib.axes._subplots.AxesSubplot at 0x1a4cda6048>"
      ]
     },
     "execution_count": 199,
     "metadata": {},
     "output_type": "execute_result"
    },
    {
     "data": {
      "image/png": "[encoded data removed]",
      "text/plain": [
       "<matplotlib.figure.Figure at 0x1a52705c50>"
      ]
     },
     "metadata": {},
     "output_type": "display_data"
    }
   ],
   "source": [
    "sns.distplot((y-ridge_predictions),bins=50)"
   ]
  },
  {
   "cell_type": "markdown",
   "metadata": {},
   "source": [
    "## Random Forest Regression"
   ]
  },
  {
   "cell_type": "code",
   "execution_count": 15,
   "metadata": {},
   "outputs": [],
   "source": [
    "regr = RandomForestRegressor(random_state=0)"
   ]
  },
  {
   "cell_type": "code",
   "execution_count": 17,
   "metadata": {},
   "outputs": [],
   "source": [
    "# time the fit\n",
    "t0 = time.time()"
   ]
  },
  {
   "cell_type": "code",
   "execution_count": 18,
   "metadata": {},
   "outputs": [
    {
     "data": {
      "text/plain": [
       "RandomForestRegressor(bootstrap=True, criterion='mse', max_depth=None,\n",
       "           max_features='auto', max_leaf_nodes=None,\n",
       "           min_impurity_decrease=0.0, min_impurity_split=None,\n",
       "           min_samples_leaf=1, min_samples_split=2,\n",
       "           min_weight_fraction_leaf=0.0, n_estimators=10, n_jobs=1,\n",
       "           oob_score=False, random_state=0, verbose=0, warm_start=False)"
      ]
     },
     "execution_count": 18,
     "metadata": {},
     "output_type": "execute_result"
    }
   ],
   "source": [
    "regr.fit(X, y)"
   ]
  },
  {
   "cell_type": "code",
   "execution_count": null,
   "metadata": {},
   "outputs": [],
   "source": [
    "rf_fit = time.time() - t0\n",
    "print(\"RF model fitted in %.3f s\"\n",
    "      % rf_fit)"
   ]
  },
  {
   "cell_type": "markdown",
   "metadata": {},
   "source": [
    "### Evaluate model predictions"
   ]
  },
  {
   "cell_type": "code",
   "execution_count": 25,
   "metadata": {},
   "outputs": [],
   "source": [
    "# get model predictions\n",
    "rfreg_pred = regr.predict(X)"
   ]
  },
  {
   "cell_type": "code",
   "execution_count": 34,
   "metadata": {},
   "outputs": [
    {
     "name": "stdout",
     "output_type": "stream",
     "text": [
      "MSE: 2382.45042711\n",
      "RMSE: 48.8103516389\n",
      "R^2:  0.97506280942\n"
     ]
    }
   ],
   "source": [
    "print('MSE:', metrics.mean_squared_error(y, rfreg_pred))\n",
    "print('RMSE:', np.sqrt(metrics.mean_squared_error(y, rfreg_pred)))\n",
    "print('R^2: ', metrics.r2_score(y, rfreg_pred))"
   ]
  },
  {
   "cell_type": "markdown",
   "metadata": {},
   "source": [
    "Compare these model metrics to the earlier OLS and Ridge regression models. <br>\n",
    "We see that that the fit with a Random Forest regression is *phenomenally* better.<br>\n",
    "Explaining 97.5% of the variance!"
   ]
  },
  {
   "cell_type": "code",
   "execution_count": 89,
   "metadata": {},
   "outputs": [
    {
     "data": {
      "text/plain": [
       "Text(0,0.5,'Random Forest Prediction')"
      ]
     },
     "execution_count": 89,
     "metadata": {},
     "output_type": "execute_result"
    },
    {
     "data": {
      "image/png": "[encoded data removed]",
      "text/plain": [
       "<matplotlib.figure.Figure at 0x1a20c3a668>"
      ]
     },
     "metadata": {},
     "output_type": "display_data"
    }
   ],
   "source": [
    "# compare predictions to observed values\n",
    "plt.scatter(y, rfreg_pred, s=3)\n",
    "plt.xlabel('Observed Crowd Levels')\n",
    "plt.ylabel('Random Forest Prediction')"
   ]
  },
  {
   "cell_type": "code",
   "execution_count": 102,
   "metadata": {},
   "outputs": [
    {
     "data": {
      "text/plain": [
       "Text(0.5,1,'Residual Error')"
      ]
     },
     "execution_count": 102,
     "metadata": {},
     "output_type": "execute_result"
    },
    {
     "data": {
      "image/png": "[encoded data removed]",
      "text/plain": [
       "<matplotlib.figure.Figure at 0x1a249bf358>"
      ]
     },
     "metadata": {},
     "output_type": "display_data"
    }
   ],
   "source": [
    "# check out the distribution of residuals\n",
    "sns.distplot((y-rfreg_pred),bins=75, kde=False)\n",
    "plt.title('Residual Error')"
   ]
  },
  {
   "cell_type": "markdown",
   "metadata": {},
   "source": [
    "We can see from the two above plots that model predictions tightly correspond to the observed data, and prediction error is no longer highly skewed like in the OLS and Ridge Regression models."
   ]
  },
  {
   "cell_type": "markdown",
   "metadata": {},
   "source": [
    "### Feature Importance"
   ]
  },
  {
   "cell_type": "code",
   "execution_count": 46,
   "metadata": {},
   "outputs": [],
   "source": [
    "importances = regr.feature_importances_"
   ]
  },
  {
   "cell_type": "code",
   "execution_count": 70,
   "metadata": {},
   "outputs": [],
   "source": [
    "std = np.std([regr.feature_importances_ for tree in regr.estimators_],\n",
    "             axis=0)\n",
    "indices = np.argsort(importances)[::-1]\n",
    "sorted_featnames = X.columns[indices]"
   ]
  },
  {
   "cell_type": "code",
   "execution_count": 72,
   "metadata": {},
   "outputs": [
    {
     "name": "stdout",
     "output_type": "stream",
     "text": [
      "Feature ranking:\n",
      "1. weekday (0.150134)\n",
      "2. hour_17 (0.132916)\n",
      "3. hour_18 (0.106738)\n",
      "4. northbound (0.081146)\n",
      "5. station_POWL (0.039331)\n",
      "6. station_MONT (0.037727)\n",
      "7. station_EMBR (0.036720)\n",
      "8. hour_16 (0.035541)\n",
      "9. max_temperature (0.032682)\n",
      "10. hour_8 (0.030033)\n",
      "11. hour_19 (0.024590)\n",
      "12. station_GLEN (0.018020)\n",
      "13. station_DALY (0.017504)\n",
      "14. station_PHIL (0.016041)\n",
      "15. station_CIVC (0.015050)\n",
      "16. hour_7 (0.012886)\n",
      "17. hour_9 (0.011624)\n",
      "18. station_24TH (0.010874)\n",
      "19. station_BALB (0.010256)\n",
      "20. hour_15 (0.010156)\n",
      "21. station_16TH (0.009199)\n",
      "22. station_WCRK (0.008356)\n",
      "23. station_COLM (0.008228)\n",
      "24. station_CONC (0.007940)\n",
      "25. station_12TH (0.007727)\n",
      "26. station_19TH (0.007635)\n",
      "27. station_WOAK (0.007350)\n",
      "28. hour_20 (0.007057)\n",
      "29. station_MCAR (0.006657)\n",
      "30. station_SSAN (0.005171)\n",
      "31. station_ROCK (0.005168)\n",
      "32. hour_21 (0.004870)\n",
      "33. day_Friday (0.004699)\n",
      "34. hour_14 (0.004108)\n",
      "35. hour_10 (0.004086)\n",
      "36. station_SBRN (0.004078)\n",
      "37. hour_6 (0.003801)\n",
      "38. station_LAFY (0.003688)\n",
      "39. hour_4 (0.003472)\n",
      "40. rain (0.003468)\n",
      "41. hour_22 (0.003402)\n",
      "42. hour_23 (0.003386)\n",
      "43. hour_0 (0.003136)\n",
      "44. hour_5 (0.003030)\n",
      "45. station_NCON (0.002901)\n",
      "46. station_ORIN (0.002783)\n",
      "47. day_Monday (0.002741)\n",
      "48. station_SFIA (0.002588)\n",
      "49. month_11 (0.002178)\n",
      "50. month_12 (0.002117)\n",
      "51. day_Wednesday (0.002065)\n",
      "52. hour_13 (0.001989)\n",
      "53. day_Thursday (0.001777)\n",
      "54. day_Sunday (0.001773)\n",
      "55. day_Tuesday (0.001570)\n",
      "56. month_1 (0.001430)\n",
      "57. month_2 (0.001421)\n",
      "58. hour_12 (0.001340)\n",
      "59. hour_11 (0.001305)\n",
      "60. month_5 (0.001278)\n",
      "61. hour_1 (0.001252)\n",
      "62. month_10 (0.001085)\n",
      "63. day_Saturday (0.001045)\n",
      "64. month_9 (0.001039)\n",
      "65. month_6 (0.001022)\n",
      "66. month_7 (0.001002)\n",
      "67. month_3 (0.000952)\n",
      "68. month_4 (0.000917)\n",
      "69. month_8 (0.000658)\n",
      "70. hour_2 (0.000074)\n",
      "71. hour_3 (0.000016)\n"
     ]
    }
   ],
   "source": [
    "# Print the feature ranking\n",
    "print(\"Feature ranking:\")\n",
    "for f in np.arange(X.shape[1]):\n",
    "    print(\"%d. %s (%f)\" % (f + 1, sorted_featnames[f], importances[indices[f]]))"
   ]
  },
  {
   "cell_type": "code",
   "execution_count": 111,
   "metadata": {},
   "outputs": [
    {
     "data": {
      "image/png": "[encoded data removed]",
      "text/plain": [
       "<matplotlib.figure.Figure at 0x1a293c29e8>"
      ]
     },
     "metadata": {},
     "output_type": "display_data"
    }
   ],
   "source": [
    "# plot top 20 features\n",
    "plt.figure(figsize=(15, 4))\n",
    "featimport = sns.barplot(sorted_featnames[0:20], importances[indices[0:20]],\n",
    "                         color='blue')\n",
    "featimport.set_xticklabels(['Weekday', '5pm', '6pm', 'Direction', 'POWL', 'MONT',\n",
    "                            'EMBR', '4pm', 'High Temp', '8am', '7pm', 'GLEN',\n",
    "                            'DALY', 'PHIL', 'CIVIC', '7am', '9am', '24TH', \n",
    "                            'BALB', '3pm'])\n",
    "plt.setp(featimport.get_xticklabels(), rotation=45)\n",
    "plt.title('Importance of Top 20 Features')\n",
    "plt.savefig(figpath + 'randforest_featimport.png', bbox_inches='tight')\n",
    "# TODO: consider making this a horizontal bar plot"
   ]
  },
  {
   "cell_type": "markdown",
   "metadata": {},
   "source": [
    "Pickle the model so I can use it to make predictions in m Flask app"
   ]
  },
  {
   "cell_type": "code",
   "execution_count": 105,
   "metadata": {},
   "outputs": [],
   "source": [
    "# pickle the model for web deployment in Flask\n",
    "with open('rf_reg.pkl', 'wb') as fid:\n",
    "    pickle.dump(regr, fid,2) "
   ]
  },
  {
   "cell_type": "code",
   "execution_count": 107,
   "metadata": {},
   "outputs": [],
   "source": [
    "#For building feature vectors, create a dataframe with the dummy variables\n",
    "index_dict = dict(zip(X.columns,range(X.shape[1])))\n",
    "with open('cat.pkl', 'wb') as fid:\n",
    "    pickle.dump(index_dict, fid,2) "
   ]
  }
 ],
 "metadata": {
  "kernelspec": {
   "display_name": "Python 3",
   "language": "python",
   "name": "python3"
  },
  "language_info": {
   "codemirror_mode": {
    "name": "ipython",
    "version": 3
   },
   "file_extension": ".py",
   "mimetype": "text/x-python",
   "name": "python",
   "nbconvert_exporter": "python",
   "pygments_lexer": "ipython3",
   "version": "3.6.4"
  }
 },
 "nbformat": 4,
 "nbformat_minor": 2
}
