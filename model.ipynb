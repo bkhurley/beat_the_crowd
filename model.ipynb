{
 "cells": [
  {
   "cell_type": "markdown",
   "metadata": {},
   "source": [
    "# Build and test some models"
   ]
  },
  {
   "cell_type": "code",
   "execution_count": 172,
   "metadata": {},
   "outputs": [],
   "source": [
    "import pandas as pd\n",
    "import numpy as np\n",
    "import matplotlib.pyplot as plt\n",
    "import matplotlib.figure as fig\n",
    "import seaborn as sns\n",
    "#import psycopg2\n",
    "import sql_utils\n",
    "from sklearn.model_selection import train_test_split\n",
    "from sklearn.linear_model import LinearRegression\n",
    "from sklearn.linear_model import RidgeCV\n",
    "from sklearn import metrics\n",
    "from sklearn import preprocessing\n",
    "import pickle\n",
    "import time\n",
    "%matplotlib inline"
   ]
  },
  {
   "cell_type": "markdown",
   "metadata": {},
   "source": [
    "## Pull the data from postgres"
   ]
  },
  {
   "cell_type": "code",
   "execution_count": 3,
   "metadata": {},
   "outputs": [],
   "source": [
    "# select and join the BART and weather data\n",
    "# select and join the BART and weather data from postgres\n",
    "bart_weather_df = sql_utils.pg2pd_join(table1='bart_entry_exit', table2='weather',\n",
    "                           on1='bart_entry_exit.date', on2='weather.datestamp')"
   ]
  },
  {
   "cell_type": "code",
   "execution_count": 4,
   "metadata": {},
   "outputs": [
    {
     "data": {
      "text/html": [
       "<div>\n",
       "<style scoped>\n",
       "    .dataframe tbody tr th:only-of-type {\n",
       "        vertical-align: middle;\n",
       "    }\n",
       "\n",
       "    .dataframe tbody tr th {\n",
       "        vertical-align: top;\n",
       "    }\n",
       "\n",
       "    .dataframe thead th {\n",
       "        text-align: right;\n",
       "    }\n",
       "</style>\n",
       "<table border=\"1\" class=\"dataframe\">\n",
       "  <thead>\n",
       "    <tr style=\"text-align: right;\">\n",
       "      <th></th>\n",
       "      <th>id</th>\n",
       "      <th>date</th>\n",
       "      <th>hour</th>\n",
       "      <th>direction</th>\n",
       "      <th>station</th>\n",
       "      <th>entries</th>\n",
       "      <th>exits</th>\n",
       "      <th>day</th>\n",
       "      <th>month</th>\n",
       "      <th>id</th>\n",
       "      <th>datestamp</th>\n",
       "      <th>mean_temperature</th>\n",
       "      <th>max_temperature</th>\n",
       "      <th>min_temperature</th>\n",
       "      <th>precipitation</th>\n",
       "      <th>rain</th>\n",
       "    </tr>\n",
       "  </thead>\n",
       "  <tbody>\n",
       "    <tr>\n",
       "      <th>0</th>\n",
       "      <td>0</td>\n",
       "      <td>2011-01-01</td>\n",
       "      <td>0</td>\n",
       "      <td>northbound</td>\n",
       "      <td>12TH</td>\n",
       "      <td>16</td>\n",
       "      <td>102</td>\n",
       "      <td>Saturday</td>\n",
       "      <td>1</td>\n",
       "      <td>0</td>\n",
       "      <td>2011-01-01</td>\n",
       "      <td>43.0</td>\n",
       "      <td>45.0</td>\n",
       "      <td>40.0</td>\n",
       "      <td>0.36</td>\n",
       "      <td>1</td>\n",
       "    </tr>\n",
       "    <tr>\n",
       "      <th>1</th>\n",
       "      <td>1</td>\n",
       "      <td>2011-01-01</td>\n",
       "      <td>0</td>\n",
       "      <td>northbound</td>\n",
       "      <td>16TH</td>\n",
       "      <td>168</td>\n",
       "      <td>26</td>\n",
       "      <td>Saturday</td>\n",
       "      <td>1</td>\n",
       "      <td>0</td>\n",
       "      <td>2011-01-01</td>\n",
       "      <td>43.0</td>\n",
       "      <td>45.0</td>\n",
       "      <td>40.0</td>\n",
       "      <td>0.36</td>\n",
       "      <td>1</td>\n",
       "    </tr>\n",
       "    <tr>\n",
       "      <th>2</th>\n",
       "      <td>2</td>\n",
       "      <td>2011-01-01</td>\n",
       "      <td>0</td>\n",
       "      <td>northbound</td>\n",
       "      <td>19TH</td>\n",
       "      <td>19</td>\n",
       "      <td>91</td>\n",
       "      <td>Saturday</td>\n",
       "      <td>1</td>\n",
       "      <td>0</td>\n",
       "      <td>2011-01-01</td>\n",
       "      <td>43.0</td>\n",
       "      <td>45.0</td>\n",
       "      <td>40.0</td>\n",
       "      <td>0.36</td>\n",
       "      <td>1</td>\n",
       "    </tr>\n",
       "    <tr>\n",
       "      <th>3</th>\n",
       "      <td>3</td>\n",
       "      <td>2011-01-01</td>\n",
       "      <td>0</td>\n",
       "      <td>northbound</td>\n",
       "      <td>24TH</td>\n",
       "      <td>72</td>\n",
       "      <td>32</td>\n",
       "      <td>Saturday</td>\n",
       "      <td>1</td>\n",
       "      <td>0</td>\n",
       "      <td>2011-01-01</td>\n",
       "      <td>43.0</td>\n",
       "      <td>45.0</td>\n",
       "      <td>40.0</td>\n",
       "      <td>0.36</td>\n",
       "      <td>1</td>\n",
       "    </tr>\n",
       "    <tr>\n",
       "      <th>4</th>\n",
       "      <td>4</td>\n",
       "      <td>2011-01-01</td>\n",
       "      <td>0</td>\n",
       "      <td>northbound</td>\n",
       "      <td>BALB</td>\n",
       "      <td>72</td>\n",
       "      <td>5</td>\n",
       "      <td>Saturday</td>\n",
       "      <td>1</td>\n",
       "      <td>0</td>\n",
       "      <td>2011-01-01</td>\n",
       "      <td>43.0</td>\n",
       "      <td>45.0</td>\n",
       "      <td>40.0</td>\n",
       "      <td>0.36</td>\n",
       "      <td>1</td>\n",
       "    </tr>\n",
       "  </tbody>\n",
       "</table>\n",
       "</div>"
      ],
      "text/plain": [
       "   id        date hour   direction station  entries  exits       day month  \\\n",
       "0   0  2011-01-01    0  northbound    12TH       16    102  Saturday     1   \n",
       "1   1  2011-01-01    0  northbound    16TH      168     26  Saturday     1   \n",
       "2   2  2011-01-01    0  northbound    19TH       19     91  Saturday     1   \n",
       "3   3  2011-01-01    0  northbound    24TH       72     32  Saturday     1   \n",
       "4   4  2011-01-01    0  northbound    BALB       72      5  Saturday     1   \n",
       "\n",
       "   id   datestamp  mean_temperature  max_temperature  min_temperature  \\\n",
       "0   0  2011-01-01              43.0             45.0             40.0   \n",
       "1   0  2011-01-01              43.0             45.0             40.0   \n",
       "2   0  2011-01-01              43.0             45.0             40.0   \n",
       "3   0  2011-01-01              43.0             45.0             40.0   \n",
       "4   0  2011-01-01              43.0             45.0             40.0   \n",
       "\n",
       "   precipitation  rain  \n",
       "0           0.36     1  \n",
       "1           0.36     1  \n",
       "2           0.36     1  \n",
       "3           0.36     1  \n",
       "4           0.36     1  "
      ]
     },
     "execution_count": 4,
     "metadata": {},
     "output_type": "execute_result"
    }
   ],
   "source": [
    "bart_weather_df.head()"
   ]
  },
  {
   "cell_type": "code",
   "execution_count": 6,
   "metadata": {},
   "outputs": [
    {
     "data": {
      "text/html": [
       "<div>\n",
       "<style scoped>\n",
       "    .dataframe tbody tr th:only-of-type {\n",
       "        vertical-align: middle;\n",
       "    }\n",
       "\n",
       "    .dataframe tbody tr th {\n",
       "        vertical-align: top;\n",
       "    }\n",
       "\n",
       "    .dataframe thead th {\n",
       "        text-align: right;\n",
       "    }\n",
       "</style>\n",
       "<table border=\"1\" class=\"dataframe\">\n",
       "  <thead>\n",
       "    <tr style=\"text-align: right;\">\n",
       "      <th></th>\n",
       "      <th>date</th>\n",
       "      <th>hour</th>\n",
       "      <th>direction</th>\n",
       "      <th>station</th>\n",
       "      <th>entries</th>\n",
       "      <th>exits</th>\n",
       "      <th>day</th>\n",
       "      <th>month</th>\n",
       "      <th>mean_temperature</th>\n",
       "      <th>max_temperature</th>\n",
       "      <th>min_temperature</th>\n",
       "      <th>precipitation</th>\n",
       "      <th>rain</th>\n",
       "    </tr>\n",
       "  </thead>\n",
       "  <tbody>\n",
       "    <tr>\n",
       "      <th>0</th>\n",
       "      <td>2011-01-01</td>\n",
       "      <td>0</td>\n",
       "      <td>northbound</td>\n",
       "      <td>12TH</td>\n",
       "      <td>16</td>\n",
       "      <td>102</td>\n",
       "      <td>Saturday</td>\n",
       "      <td>1</td>\n",
       "      <td>43.0</td>\n",
       "      <td>45.0</td>\n",
       "      <td>40.0</td>\n",
       "      <td>0.36</td>\n",
       "      <td>1</td>\n",
       "    </tr>\n",
       "    <tr>\n",
       "      <th>1</th>\n",
       "      <td>2011-01-01</td>\n",
       "      <td>0</td>\n",
       "      <td>northbound</td>\n",
       "      <td>16TH</td>\n",
       "      <td>168</td>\n",
       "      <td>26</td>\n",
       "      <td>Saturday</td>\n",
       "      <td>1</td>\n",
       "      <td>43.0</td>\n",
       "      <td>45.0</td>\n",
       "      <td>40.0</td>\n",
       "      <td>0.36</td>\n",
       "      <td>1</td>\n",
       "    </tr>\n",
       "    <tr>\n",
       "      <th>2</th>\n",
       "      <td>2011-01-01</td>\n",
       "      <td>0</td>\n",
       "      <td>northbound</td>\n",
       "      <td>19TH</td>\n",
       "      <td>19</td>\n",
       "      <td>91</td>\n",
       "      <td>Saturday</td>\n",
       "      <td>1</td>\n",
       "      <td>43.0</td>\n",
       "      <td>45.0</td>\n",
       "      <td>40.0</td>\n",
       "      <td>0.36</td>\n",
       "      <td>1</td>\n",
       "    </tr>\n",
       "    <tr>\n",
       "      <th>3</th>\n",
       "      <td>2011-01-01</td>\n",
       "      <td>0</td>\n",
       "      <td>northbound</td>\n",
       "      <td>24TH</td>\n",
       "      <td>72</td>\n",
       "      <td>32</td>\n",
       "      <td>Saturday</td>\n",
       "      <td>1</td>\n",
       "      <td>43.0</td>\n",
       "      <td>45.0</td>\n",
       "      <td>40.0</td>\n",
       "      <td>0.36</td>\n",
       "      <td>1</td>\n",
       "    </tr>\n",
       "    <tr>\n",
       "      <th>4</th>\n",
       "      <td>2011-01-01</td>\n",
       "      <td>0</td>\n",
       "      <td>northbound</td>\n",
       "      <td>BALB</td>\n",
       "      <td>72</td>\n",
       "      <td>5</td>\n",
       "      <td>Saturday</td>\n",
       "      <td>1</td>\n",
       "      <td>43.0</td>\n",
       "      <td>45.0</td>\n",
       "      <td>40.0</td>\n",
       "      <td>0.36</td>\n",
       "      <td>1</td>\n",
       "    </tr>\n",
       "  </tbody>\n",
       "</table>\n",
       "</div>"
      ],
      "text/plain": [
       "         date hour   direction station  entries  exits       day month  \\\n",
       "0  2011-01-01    0  northbound    12TH       16    102  Saturday     1   \n",
       "1  2011-01-01    0  northbound    16TH      168     26  Saturday     1   \n",
       "2  2011-01-01    0  northbound    19TH       19     91  Saturday     1   \n",
       "3  2011-01-01    0  northbound    24TH       72     32  Saturday     1   \n",
       "4  2011-01-01    0  northbound    BALB       72      5  Saturday     1   \n",
       "\n",
       "   mean_temperature  max_temperature  min_temperature  precipitation  rain  \n",
       "0              43.0             45.0             40.0           0.36     1  \n",
       "1              43.0             45.0             40.0           0.36     1  \n",
       "2              43.0             45.0             40.0           0.36     1  \n",
       "3              43.0             45.0             40.0           0.36     1  \n",
       "4              43.0             45.0             40.0           0.36     1  "
      ]
     },
     "execution_count": 6,
     "metadata": {},
     "output_type": "execute_result"
    }
   ],
   "source": [
    "# remove the redundant 'id' and 'datestamp' columns\n",
    "bart_weather_df.drop(labels=['id', 'datestamp'], axis=1, inplace=True)\n",
    "bart_weather_df.head()"
   ]
  },
  {
   "cell_type": "markdown",
   "metadata": {},
   "source": [
    "-------\n",
    "## Transform features before feeding to model\n",
    "Generate some new features, and transform categorical features to binary dummy variables "
   ]
  },
  {
   "cell_type": "code",
   "execution_count": 118,
   "metadata": {},
   "outputs": [
    {
     "name": "stdout",
     "output_type": "stream",
     "text": [
      "<class 'pandas.core.frame.DataFrame'>\n",
      "RangeIndex: 2126069 entries, 0 to 2126068\n",
      "Data columns (total 13 columns):\n",
      "date                object\n",
      "hour                object\n",
      "direction           object\n",
      "station             object\n",
      "entries             int64\n",
      "exits               int64\n",
      "day                 object\n",
      "month               object\n",
      "mean_temperature    float64\n",
      "max_temperature     float64\n",
      "min_temperature     float64\n",
      "precipitation       float64\n",
      "rain                int64\n",
      "dtypes: float64(4), int64(3), object(6)\n",
      "memory usage: 210.9+ MB\n"
     ]
    }
   ],
   "source": [
    "# take a look at the current data types\n",
    "bart_weather_df.info()"
   ]
  },
  {
   "cell_type": "code",
   "execution_count": 233,
   "metadata": {},
   "outputs": [],
   "source": [
    "# restrict to only the columns to be used in the models\n",
    "model_data = bart_weather_df[['hour', 'direction', 'station', 'entries', \n",
    "                              'day','month', 'max_temperature', 'rain']]\n",
    "# remove NaN from data before training\n",
    "model_data = model_data.loc[(~model_data.isnull().any(axis=1)), :]"
   ]
  },
  {
   "cell_type": "markdown",
   "metadata": {},
   "source": [
    " ### Transform categorical features to binary dummy variables"
   ]
  },
  {
   "cell_type": "code",
   "execution_count": 234,
   "metadata": {},
   "outputs": [],
   "source": [
    "# create a weekday dummy variable\n",
    "model_data['weekday'] = 0\n",
    "model_data.loc[model_data['day'].isin([\n",
    "    'Monday', 'Tuesday', 'Wednesday', 'Thursday', 'Friday']), 'weekday'] = 1"
   ]
  },
  {
   "cell_type": "code",
   "execution_count": 235,
   "metadata": {},
   "outputs": [],
   "source": [
    "# transform direction to binary dummy\n",
    "model_data['northbound'] = 0\n",
    "model_data.loc[model_data['direction'] == 'northbound', 'northbound'] = 1\n",
    "# drop the original categorical feature\n",
    "model_data.drop('direction', axis=1, inplace=True)"
   ]
  },
  {
   "cell_type": "code",
   "execution_count": 236,
   "metadata": {},
   "outputs": [
    {
     "data": {
      "text/html": [
       "<div>\n",
       "<style scoped>\n",
       "    .dataframe tbody tr th:only-of-type {\n",
       "        vertical-align: middle;\n",
       "    }\n",
       "\n",
       "    .dataframe tbody tr th {\n",
       "        vertical-align: top;\n",
       "    }\n",
       "\n",
       "    .dataframe thead th {\n",
       "        text-align: right;\n",
       "    }\n",
       "</style>\n",
       "<table border=\"1\" class=\"dataframe\">\n",
       "  <thead>\n",
       "    <tr style=\"text-align: right;\">\n",
       "      <th></th>\n",
       "      <th>hour</th>\n",
       "      <th>station</th>\n",
       "      <th>entries</th>\n",
       "      <th>day</th>\n",
       "      <th>month</th>\n",
       "      <th>max_temperature</th>\n",
       "      <th>rain</th>\n",
       "      <th>weekday</th>\n",
       "      <th>northbound</th>\n",
       "    </tr>\n",
       "  </thead>\n",
       "  <tbody>\n",
       "    <tr>\n",
       "      <th>0</th>\n",
       "      <td>0</td>\n",
       "      <td>12TH</td>\n",
       "      <td>16</td>\n",
       "      <td>Saturday</td>\n",
       "      <td>1</td>\n",
       "      <td>45.0</td>\n",
       "      <td>1</td>\n",
       "      <td>0</td>\n",
       "      <td>1</td>\n",
       "    </tr>\n",
       "    <tr>\n",
       "      <th>1</th>\n",
       "      <td>0</td>\n",
       "      <td>16TH</td>\n",
       "      <td>168</td>\n",
       "      <td>Saturday</td>\n",
       "      <td>1</td>\n",
       "      <td>45.0</td>\n",
       "      <td>1</td>\n",
       "      <td>0</td>\n",
       "      <td>1</td>\n",
       "    </tr>\n",
       "    <tr>\n",
       "      <th>2</th>\n",
       "      <td>0</td>\n",
       "      <td>19TH</td>\n",
       "      <td>19</td>\n",
       "      <td>Saturday</td>\n",
       "      <td>1</td>\n",
       "      <td>45.0</td>\n",
       "      <td>1</td>\n",
       "      <td>0</td>\n",
       "      <td>1</td>\n",
       "    </tr>\n",
       "    <tr>\n",
       "      <th>3</th>\n",
       "      <td>0</td>\n",
       "      <td>24TH</td>\n",
       "      <td>72</td>\n",
       "      <td>Saturday</td>\n",
       "      <td>1</td>\n",
       "      <td>45.0</td>\n",
       "      <td>1</td>\n",
       "      <td>0</td>\n",
       "      <td>1</td>\n",
       "    </tr>\n",
       "    <tr>\n",
       "      <th>4</th>\n",
       "      <td>0</td>\n",
       "      <td>BALB</td>\n",
       "      <td>72</td>\n",
       "      <td>Saturday</td>\n",
       "      <td>1</td>\n",
       "      <td>45.0</td>\n",
       "      <td>1</td>\n",
       "      <td>0</td>\n",
       "      <td>1</td>\n",
       "    </tr>\n",
       "  </tbody>\n",
       "</table>\n",
       "</div>"
      ],
      "text/plain": [
       "  hour station  entries       day month  max_temperature  rain  weekday  \\\n",
       "0    0    12TH       16  Saturday     1             45.0     1        0   \n",
       "1    0    16TH      168  Saturday     1             45.0     1        0   \n",
       "2    0    19TH       19  Saturday     1             45.0     1        0   \n",
       "3    0    24TH       72  Saturday     1             45.0     1        0   \n",
       "4    0    BALB       72  Saturday     1             45.0     1        0   \n",
       "\n",
       "   northbound  \n",
       "0           1  \n",
       "1           1  \n",
       "2           1  \n",
       "3           1  \n",
       "4           1  "
      ]
     },
     "execution_count": 236,
     "metadata": {},
     "output_type": "execute_result"
    }
   ],
   "source": [
    "model_data.head()"
   ]
  },
  {
   "cell_type": "code",
   "execution_count": 238,
   "metadata": {},
   "outputs": [],
   "source": [
    "# transform categorical features into binary dummy variables\n",
    "model_data_binary = pd.get_dummies(model_data)"
   ]
  },
  {
   "cell_type": "code",
   "execution_count": 239,
   "metadata": {},
   "outputs": [
    {
     "data": {
      "text/html": [
       "<div>\n",
       "<style scoped>\n",
       "    .dataframe tbody tr th:only-of-type {\n",
       "        vertical-align: middle;\n",
       "    }\n",
       "\n",
       "    .dataframe tbody tr th {\n",
       "        vertical-align: top;\n",
       "    }\n",
       "\n",
       "    .dataframe thead th {\n",
       "        text-align: right;\n",
       "    }\n",
       "</style>\n",
       "<table border=\"1\" class=\"dataframe\">\n",
       "  <thead>\n",
       "    <tr style=\"text-align: right;\">\n",
       "      <th></th>\n",
       "      <th>entries</th>\n",
       "      <th>max_temperature</th>\n",
       "      <th>rain</th>\n",
       "      <th>weekday</th>\n",
       "      <th>northbound</th>\n",
       "      <th>hour_0</th>\n",
       "      <th>hour_1</th>\n",
       "      <th>hour_10</th>\n",
       "      <th>hour_11</th>\n",
       "      <th>hour_12</th>\n",
       "      <th>...</th>\n",
       "      <th>month_11</th>\n",
       "      <th>month_12</th>\n",
       "      <th>month_2</th>\n",
       "      <th>month_3</th>\n",
       "      <th>month_4</th>\n",
       "      <th>month_5</th>\n",
       "      <th>month_6</th>\n",
       "      <th>month_7</th>\n",
       "      <th>month_8</th>\n",
       "      <th>month_9</th>\n",
       "    </tr>\n",
       "  </thead>\n",
       "  <tbody>\n",
       "    <tr>\n",
       "      <th>0</th>\n",
       "      <td>16</td>\n",
       "      <td>45.0</td>\n",
       "      <td>1</td>\n",
       "      <td>0</td>\n",
       "      <td>1</td>\n",
       "      <td>1</td>\n",
       "      <td>0</td>\n",
       "      <td>0</td>\n",
       "      <td>0</td>\n",
       "      <td>0</td>\n",
       "      <td>...</td>\n",
       "      <td>0</td>\n",
       "      <td>0</td>\n",
       "      <td>0</td>\n",
       "      <td>0</td>\n",
       "      <td>0</td>\n",
       "      <td>0</td>\n",
       "      <td>0</td>\n",
       "      <td>0</td>\n",
       "      <td>0</td>\n",
       "      <td>0</td>\n",
       "    </tr>\n",
       "    <tr>\n",
       "      <th>1</th>\n",
       "      <td>168</td>\n",
       "      <td>45.0</td>\n",
       "      <td>1</td>\n",
       "      <td>0</td>\n",
       "      <td>1</td>\n",
       "      <td>1</td>\n",
       "      <td>0</td>\n",
       "      <td>0</td>\n",
       "      <td>0</td>\n",
       "      <td>0</td>\n",
       "      <td>...</td>\n",
       "      <td>0</td>\n",
       "      <td>0</td>\n",
       "      <td>0</td>\n",
       "      <td>0</td>\n",
       "      <td>0</td>\n",
       "      <td>0</td>\n",
       "      <td>0</td>\n",
       "      <td>0</td>\n",
       "      <td>0</td>\n",
       "      <td>0</td>\n",
       "    </tr>\n",
       "    <tr>\n",
       "      <th>2</th>\n",
       "      <td>19</td>\n",
       "      <td>45.0</td>\n",
       "      <td>1</td>\n",
       "      <td>0</td>\n",
       "      <td>1</td>\n",
       "      <td>1</td>\n",
       "      <td>0</td>\n",
       "      <td>0</td>\n",
       "      <td>0</td>\n",
       "      <td>0</td>\n",
       "      <td>...</td>\n",
       "      <td>0</td>\n",
       "      <td>0</td>\n",
       "      <td>0</td>\n",
       "      <td>0</td>\n",
       "      <td>0</td>\n",
       "      <td>0</td>\n",
       "      <td>0</td>\n",
       "      <td>0</td>\n",
       "      <td>0</td>\n",
       "      <td>0</td>\n",
       "    </tr>\n",
       "    <tr>\n",
       "      <th>3</th>\n",
       "      <td>72</td>\n",
       "      <td>45.0</td>\n",
       "      <td>1</td>\n",
       "      <td>0</td>\n",
       "      <td>1</td>\n",
       "      <td>1</td>\n",
       "      <td>0</td>\n",
       "      <td>0</td>\n",
       "      <td>0</td>\n",
       "      <td>0</td>\n",
       "      <td>...</td>\n",
       "      <td>0</td>\n",
       "      <td>0</td>\n",
       "      <td>0</td>\n",
       "      <td>0</td>\n",
       "      <td>0</td>\n",
       "      <td>0</td>\n",
       "      <td>0</td>\n",
       "      <td>0</td>\n",
       "      <td>0</td>\n",
       "      <td>0</td>\n",
       "    </tr>\n",
       "    <tr>\n",
       "      <th>4</th>\n",
       "      <td>72</td>\n",
       "      <td>45.0</td>\n",
       "      <td>1</td>\n",
       "      <td>0</td>\n",
       "      <td>1</td>\n",
       "      <td>1</td>\n",
       "      <td>0</td>\n",
       "      <td>0</td>\n",
       "      <td>0</td>\n",
       "      <td>0</td>\n",
       "      <td>...</td>\n",
       "      <td>0</td>\n",
       "      <td>0</td>\n",
       "      <td>0</td>\n",
       "      <td>0</td>\n",
       "      <td>0</td>\n",
       "      <td>0</td>\n",
       "      <td>0</td>\n",
       "      <td>0</td>\n",
       "      <td>0</td>\n",
       "      <td>0</td>\n",
       "    </tr>\n",
       "  </tbody>\n",
       "</table>\n",
       "<p>5 rows × 72 columns</p>\n",
       "</div>"
      ],
      "text/plain": [
       "   entries  max_temperature  rain  weekday  northbound  hour_0  hour_1  \\\n",
       "0       16             45.0     1        0           1       1       0   \n",
       "1      168             45.0     1        0           1       1       0   \n",
       "2       19             45.0     1        0           1       1       0   \n",
       "3       72             45.0     1        0           1       1       0   \n",
       "4       72             45.0     1        0           1       1       0   \n",
       "\n",
       "   hour_10  hour_11  hour_12   ...     month_11  month_12  month_2  month_3  \\\n",
       "0        0        0        0   ...            0         0        0        0   \n",
       "1        0        0        0   ...            0         0        0        0   \n",
       "2        0        0        0   ...            0         0        0        0   \n",
       "3        0        0        0   ...            0         0        0        0   \n",
       "4        0        0        0   ...            0         0        0        0   \n",
       "\n",
       "   month_4  month_5  month_6  month_7  month_8  month_9  \n",
       "0        0        0        0        0        0        0  \n",
       "1        0        0        0        0        0        0  \n",
       "2        0        0        0        0        0        0  \n",
       "3        0        0        0        0        0        0  \n",
       "4        0        0        0        0        0        0  \n",
       "\n",
       "[5 rows x 72 columns]"
      ]
     },
     "execution_count": 239,
     "metadata": {},
     "output_type": "execute_result"
    }
   ],
   "source": [
    "model_data_binary.head()"
   ]
  },
  {
   "cell_type": "code",
   "execution_count": 240,
   "metadata": {},
   "outputs": [
    {
     "name": "stdout",
     "output_type": "stream",
     "text": [
      "<class 'pandas.core.frame.DataFrame'>\n",
      "Int64Index: 2126069 entries, 0 to 2126068\n",
      "Data columns (total 72 columns):\n",
      "entries            int64\n",
      "max_temperature    float64\n",
      "rain               int64\n",
      "weekday            int64\n",
      "northbound         int64\n",
      "hour_0             uint8\n",
      "hour_1             uint8\n",
      "hour_10            uint8\n",
      "hour_11            uint8\n",
      "hour_12            uint8\n",
      "hour_13            uint8\n",
      "hour_14            uint8\n",
      "hour_15            uint8\n",
      "hour_16            uint8\n",
      "hour_17            uint8\n",
      "hour_18            uint8\n",
      "hour_19            uint8\n",
      "hour_2             uint8\n",
      "hour_20            uint8\n",
      "hour_21            uint8\n",
      "hour_22            uint8\n",
      "hour_23            uint8\n",
      "hour_3             uint8\n",
      "hour_4             uint8\n",
      "hour_5             uint8\n",
      "hour_6             uint8\n",
      "hour_7             uint8\n",
      "hour_8             uint8\n",
      "hour_9             uint8\n",
      "station_12TH       uint8\n",
      "station_16TH       uint8\n",
      "station_19TH       uint8\n",
      "station_24TH       uint8\n",
      "station_BALB       uint8\n",
      "station_CIVC       uint8\n",
      "station_COLM       uint8\n",
      "station_CONC       uint8\n",
      "station_DALY       uint8\n",
      "station_EMBR       uint8\n",
      "station_GLEN       uint8\n",
      "station_LAFY       uint8\n",
      "station_MCAR       uint8\n",
      "station_MONT       uint8\n",
      "station_NCON       uint8\n",
      "station_ORIN       uint8\n",
      "station_PHIL       uint8\n",
      "station_POWL       uint8\n",
      "station_ROCK       uint8\n",
      "station_SBRN       uint8\n",
      "station_SFIA       uint8\n",
      "station_SSAN       uint8\n",
      "station_WCRK       uint8\n",
      "station_WOAK       uint8\n",
      "day_Friday         uint8\n",
      "day_Monday         uint8\n",
      "day_Saturday       uint8\n",
      "day_Sunday         uint8\n",
      "day_Thursday       uint8\n",
      "day_Tuesday        uint8\n",
      "day_Wednesday      uint8\n",
      "month_1            uint8\n",
      "month_10           uint8\n",
      "month_11           uint8\n",
      "month_12           uint8\n",
      "month_2            uint8\n",
      "month_3            uint8\n",
      "month_4            uint8\n",
      "month_5            uint8\n",
      "month_6            uint8\n",
      "month_7            uint8\n",
      "month_8            uint8\n",
      "month_9            uint8\n",
      "dtypes: float64(1), int64(4), uint8(67)\n",
      "memory usage: 233.2 MB\n"
     ]
    }
   ],
   "source": [
    "model_data_binary.info()"
   ]
  },
  {
   "cell_type": "markdown",
   "metadata": {},
   "source": [
    "-------\n",
    "# Linear Regression\n",
    "Train regression models to predict passenger crowding using the above features. "
   ]
  },
  {
   "cell_type": "markdown",
   "metadata": {},
   "source": [
    "## Least-squares regression\n",
    "First, use a simple *ordinary least-squares (OLS) regression* model"
   ]
  },
  {
   "cell_type": "markdown",
   "metadata": {},
   "source": [
    "#### Partition data for validation\n",
    "Partition into 80% training set and 20% test set. "
   ]
  },
  {
   "cell_type": "code",
   "execution_count": 241,
   "metadata": {},
   "outputs": [],
   "source": [
    "X = model_data_binary.drop('entries', axis=1) # features = all columns except 'entries'\n",
    "y = model_data_binary['entries']"
   ]
  },
  {
   "cell_type": "code",
   "execution_count": 242,
   "metadata": {},
   "outputs": [],
   "source": [
    "X_train, X_test, y_train, y_test = train_test_split(X, y, test_size=0.3, random_state=1)"
   ]
  },
  {
   "cell_type": "markdown",
   "metadata": {},
   "source": [
    "### Train model\n",
    "Fit an OLS regression model to the training data"
   ]
  },
  {
   "cell_type": "code",
   "execution_count": 243,
   "metadata": {},
   "outputs": [
    {
     "data": {
      "text/plain": [
       "LinearRegression(copy_X=True, fit_intercept=True, n_jobs=1, normalize=False)"
      ]
     },
     "execution_count": 243,
     "metadata": {},
     "output_type": "execute_result"
    }
   ],
   "source": [
    "lm = LinearRegression()\n",
    "lm.fit(X_train,y_train)"
   ]
  },
  {
   "cell_type": "markdown",
   "metadata": {},
   "source": [
    "### Evaluate model predictions"
   ]
  },
  {
   "cell_type": "code",
   "execution_count": 244,
   "metadata": {},
   "outputs": [],
   "source": [
    "figpath = '/Users/bkhurley/git/insight/project/beat_the_crowd/figures/'"
   ]
  },
  {
   "cell_type": "code",
   "execution_count": null,
   "metadata": {},
   "outputs": [],
   "source": [
    "predictions = lm.predict(X_test)"
   ]
  },
  {
   "cell_type": "code",
   "execution_count": 231,
   "metadata": {
    "scrolled": true
   },
   "outputs": [
    {
     "data": {
      "image/png": "[encoded data removed]",
      "text/plain": [
       "<matplotlib.figure.Figure at 0x1a5118e518>"
      ]
     },
     "metadata": {},
     "output_type": "display_data"
    }
   ],
   "source": [
    "plt.scatter(y_test, predictions, s=3)\n",
    "plt.xlabel('Testing Data')\n",
    "plt.ylabel('Model Prediction')\n",
    "plt.savefig(figpath + 'ols_predict.png')"
   ]
  },
  {
   "cell_type": "markdown",
   "metadata": {},
   "source": [
    "Looks like the OLS model is pretty biased. This is likely due to the extreme outliers of the high-volume stations at high-volume times (e.g., downtown SF stations at rushour)."
   ]
  },
  {
   "cell_type": "markdown",
   "metadata": {},
   "source": [
    "### Evaluate model"
   ]
  },
  {
   "cell_type": "code",
   "execution_count": 232,
   "metadata": {},
   "outputs": [
    {
     "name": "stdout",
     "output_type": "stream",
     "text": [
      "RSS:  43496796562.86463\n",
      "MAE: 154.962991971\n",
      "MSE: 68195.9304614\n",
      "RMSE: 261.143505493\n",
      "R^2:  0.288753276431\n"
     ]
    }
   ],
   "source": [
    "print('RSS: ', sum((y_test - predictions)**2))\n",
    "print('MAE:', metrics.mean_absolute_error(y_test, predictions))\n",
    "print('MSE:', metrics.mean_squared_error(y_test, predictions))\n",
    "print('RMSE:', np.sqrt(metrics.mean_squared_error(y_test, predictions)))\n",
    "print('R^2: ', metrics.r2_score(y_test, predictions))"
   ]
  },
  {
   "cell_type": "markdown",
   "metadata": {},
   "source": [
    "#### Residuals"
   ]
  },
  {
   "cell_type": "code",
   "execution_count": 210,
   "metadata": {},
   "outputs": [
    {
     "data": {
      "image/png": "[encoded data removed]",
      "text/plain": [
       "<matplotlib.figure.Figure at 0x1a517a1390>"
      ]
     },
     "metadata": {},
     "output_type": "display_data"
    }
   ],
   "source": [
    "sns.distplot((y_test-predictions),bins=50);\n",
    "plt.title('Distribution of OLS Residuals')\n",
    "plt.savefig(figpath + 'ols_resid.png')"
   ]
  },
  {
   "cell_type": "code",
   "execution_count": 167,
   "metadata": {},
   "outputs": [],
   "source": [
    "# dump model to pickle file so I can pick it up in Flask\n",
    "with open('lm.pkl', 'wb') as fid:\n",
    "    pickle.dump(lm, fid,2) "
   ]
  },
  {
   "cell_type": "code",
   "execution_count": 168,
   "metadata": {},
   "outputs": [],
   "source": [
    "#For building feature vectors, create a dataframe with the dummy variables\n",
    "feats = model_data_binary.drop('entries', axis=1)\n",
    "index_dict = dict(zip(feats.columns,range(feats.shape[1])))\n",
    "with open('cat.pkl', 'wb') as fid:\n",
    "    pickle.dump(index_dict, fid,2) "
   ]
  },
  {
   "cell_type": "markdown",
   "metadata": {},
   "source": [
    "## Ridge Regression\n",
    "OLS did not perform very good. With the one-hot encoding of multi-class categoricals, we ended up with 70+ features. This might lead to an over-fitting to the training data. Let's use a ridge regression to impart some regularization and shrink the less informative features."
   ]
  },
  {
   "cell_type": "markdown",
   "metadata": {},
   "source": [
    "### Train model\n",
    "Fit ridge model under each tuning value, and select best penalty (`alpha`) using cross-validation.  "
   ]
  },
  {
   "cell_type": "code",
   "execution_count": 192,
   "metadata": {},
   "outputs": [],
   "source": [
    "# define array of tuning values to test\n",
    "tuning = np.logspace(0, 7, num=15)\n",
    "# fit ridge model to data using 10-fold CV\n",
    "ridge = RidgeCV(alphas=tuning, cv=10)"
   ]
  },
  {
   "cell_type": "code",
   "execution_count": 193,
   "metadata": {},
   "outputs": [
    {
     "name": "stdout",
     "output_type": "stream",
     "text": [
      "34.65736091931661 minutes elapsed\n"
     ]
    }
   ],
   "source": [
    "# start timer\n",
    "start = time.time()\n",
    "\n",
    "ridge.fit(X, y)\n",
    "\n",
    "# end timer\n",
    "end = time.time()\n",
    "elapsed = end-start\n",
    "print(str(elapsed/60) + ' minutes elapsed' )"
   ]
  },
  {
   "cell_type": "code",
   "execution_count": 194,
   "metadata": {},
   "outputs": [
    {
     "name": "stdout",
     "output_type": "stream",
     "text": [
      "Optimal tuning parameter value:  1000.0\n"
     ]
    }
   ],
   "source": [
    "print('Optimal tuning parameter value: ', ridge.alpha_)"
   ]
  },
  {
   "cell_type": "markdown",
   "metadata": {},
   "source": [
    "### Evaluate model predictions"
   ]
  },
  {
   "cell_type": "code",
   "execution_count": 195,
   "metadata": {},
   "outputs": [],
   "source": [
    "ridge_predictions = ridge.predict(X)"
   ]
  },
  {
   "cell_type": "code",
   "execution_count": 196,
   "metadata": {},
   "outputs": [
    {
     "name": "stdout",
     "output_type": "stream",
     "text": [
      "MSE: 67967.7997637\n",
      "RMSE: 260.706347763\n",
      "R^2:  0.288578701692\n"
     ]
    }
   ],
   "source": [
    "print('MSE:', metrics.mean_squared_error(y, ridge_predictions))\n",
    "print('RMSE:', np.sqrt(metrics.mean_squared_error(y, ridge_predictions)))\n",
    "print('R^2: ', ridge.score(X, y))"
   ]
  },
  {
   "cell_type": "markdown",
   "metadata": {},
   "source": [
    "No improvement in model fit compared to the simple OLS regression. Predictions are still pretty biased, as shown below. Perhaps a polynomial model would improve things."
   ]
  },
  {
   "cell_type": "code",
   "execution_count": 198,
   "metadata": {},
   "outputs": [
    {
     "data": {
      "text/plain": [
       "Text(0,0.5,'Ridge-Predicted Crowd Levels')"
      ]
     },
     "execution_count": 198,
     "metadata": {},
     "output_type": "execute_result"
    },
    {
     "data": {
      "image/png": "[encoded data removed]",
      "text/plain": [
       "<matplotlib.figure.Figure at 0x1a4cda6080>"
      ]
     },
     "metadata": {},
     "output_type": "display_data"
    }
   ],
   "source": [
    "plt.scatter(y, ridge_predictions, s=3)\n",
    "plt.xlabel('Observed Crowd Levels')\n",
    "plt.ylabel('Ridge-Predicted Crowd Levels')"
   ]
  },
  {
   "cell_type": "code",
   "execution_count": 199,
   "metadata": {},
   "outputs": [
    {
     "data": {
      "text/plain": [
       "<matplotlib.axes._subplots.AxesSubplot at 0x1a4cda6048>"
      ]
     },
     "execution_count": 199,
     "metadata": {},
     "output_type": "execute_result"
    },
    {
     "data": {
      "image/png": "[encoded data removed]",
      "text/plain": [
       "<matplotlib.figure.Figure at 0x1a52705c50>"
      ]
     },
     "metadata": {},
     "output_type": "display_data"
    }
   ],
   "source": [
    "sns.distplot((y-ridge_predictions),bins=50)"
   ]
  },
  {
   "cell_type": "code",
   "execution_count": null,
   "metadata": {},
   "outputs": [],
   "source": []
  }
 ],
 "metadata": {
  "kernelspec": {
   "display_name": "Python 3",
   "language": "python",
   "name": "python3"
  },
  "language_info": {
   "codemirror_mode": {
    "name": "ipython",
    "version": 3
   },
   "file_extension": ".py",
   "mimetype": "text/x-python",
   "name": "python",
   "nbconvert_exporter": "python",
   "pygments_lexer": "ipython3",
   "version": "3.6.4"
  }
 },
 "nbformat": 4,
 "nbformat_minor": 2
}
